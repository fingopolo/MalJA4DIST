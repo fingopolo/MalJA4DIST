{
 "cells": [
  {
   "cell_type": "markdown",
   "metadata": {},
   "source": [
    "## Maldist Model\n",
    "\n",
    "Here we are going to follow the Maldist model by dividing the dataset into 4 classes Benign, Dridex, Emotet and Hacintor\n",
    "But first we need to balanced the data\n",
    "After that we can train our several models and compare their Accuracy, Precision, Recall and F1-Score\n",
    "Then we can do a confussion matrix"
   ]
  },
  {
   "cell_type": "markdown",
   "metadata": {},
   "source": [
    "We are going to balanced the data by subsampling hancitor and oversampling the rest. Our media samples will be 7000"
   ]
  },
  {
   "cell_type": "code",
   "execution_count": 1,
   "metadata": {},
   "outputs": [
    {
     "name": "stdout",
     "output_type": "stream",
     "text": [
      "The shape of the dridex dataset is 1987 samples, 337 features\n",
      "The shape of the emotet dataset is 5597 samples, 337 features\n",
      "The shape of the hancitor dataset is 58431 samples, 337 features\n",
      "The shape of the valak dataset is 1151 samples, 337 features\n",
      "The shape of the benign dataset is 3050 samples, 337 features\n"
     ]
    }
   ],
   "source": [
    "import pandas as pd\n",
    "import numpy as np\n",
    "\n",
    "dridex = pd.read_csv(\"../Datasets/Dridex.csv\", sep=\",\")\n",
    "emotet = pd.read_csv(\"../Datasets/Emotet.csv\", sep=\",\")\n",
    "hancitor = pd.read_csv(\"../Datasets/Hancitor.csv\", sep=\",\")\n",
    "valak = pd.read_csv(\"../Datasets/Valak.csv\", sep=\",\")\n",
    "benign = pd.read_csv(\"../Datasets/Benign.csv\", sep=\",\")\n",
    "\n",
    "print(f\"The shape of the dridex dataset is {dridex.shape[0]} samples, {dridex.shape[1]} features\")\n",
    "print(f\"The shape of the emotet dataset is {emotet.shape[0]} samples, {emotet.shape[1]} features\")\n",
    "print(f\"The shape of the hancitor dataset is {hancitor.shape[0]} samples, {hancitor.shape[1]} features\")\n",
    "print(f\"The shape of the valak dataset is {valak.shape[0]} samples, {valak.shape[1]} features\")\n",
    "print(f\"The shape of the benign dataset is {benign.shape[0]} samples, {benign.shape[1]} features\")"
   ]
  },
  {
   "cell_type": "code",
   "execution_count": 2,
   "metadata": {},
   "outputs": [
    {
     "name": "stdout",
     "output_type": "stream",
     "text": [
      "The shape of the legit dataset is 3050 samples, 336 features\n",
      "The shape of the mal dataset is 67166 samples, 336 features\n"
     ]
    }
   ],
   "source": [
    "data = pd.read_csv(\"../Datasets/MalDist_Dataset.csv\", sep=\",\")\n",
    "\n",
    "mal = data[data['label'] == 1].drop(columns=['label'])\n",
    "legit = data[data['label'] == 0].drop(columns=['label'])\n",
    "\n",
    "print(f\"The shape of the legit dataset is {legit.shape[0]} samples, {legit.shape[1]} features\")\n",
    "print(f\"The shape of the mal dataset is {mal.shape[0]} samples, {mal.shape[1]} features\")"
   ]
  },
  {
   "cell_type": "code",
   "execution_count": 8,
   "metadata": {},
   "outputs": [
    {
     "name": "stdout",
     "output_type": "stream",
     "text": [
      "Defaulting to user installation because normal site-packages is not writeable\n",
      "Requirement already satisfied: imbalanced-learn in /home/fingopolo/.local/lib/python3.10/site-packages (0.10.1)\n",
      "Requirement already satisfied: numpy>=1.17.3 in /home/fingopolo/.local/lib/python3.10/site-packages (from imbalanced-learn) (1.24.3)\n",
      "Requirement already satisfied: scipy>=1.3.2 in /home/fingopolo/.local/lib/python3.10/site-packages (from imbalanced-learn) (1.14.1)\n",
      "Requirement already satisfied: scikit-learn>=1.0.2 in /home/fingopolo/.local/lib/python3.10/site-packages (from imbalanced-learn) (1.2.2)\n",
      "Requirement already satisfied: joblib>=1.1.1 in /home/fingopolo/.local/lib/python3.10/site-packages (from imbalanced-learn) (1.2.0)\n",
      "Requirement already satisfied: threadpoolctl>=2.0.0 in /home/fingopolo/.local/lib/python3.10/site-packages (from imbalanced-learn) (3.1.0)\n"
     ]
    }
   ],
   "source": [
    "!pip install imbalanced-learn"
   ]
  },
  {
   "cell_type": "code",
   "execution_count": 3,
   "metadata": {},
   "outputs": [
    {
     "name": "stdout",
     "output_type": "stream",
     "text": [
      "Submuestreo 3\n",
      "Clases después de balancear:\n",
      "0    7000\n",
      "1    7000\n",
      "2    7000\n",
      "3    7000\n",
      "4    7000\n",
      "Name: family, dtype: int64\n"
     ]
    }
   ],
   "source": [
    "from sklearn.utils import resample\n",
    "from imblearn.over_sampling import SMOTE\n",
    "import pandas as pd\n",
    "\n",
    "# Separar características y etiquetas\n",
    "X = data.drop(columns=['label', 'family', 'file_name'])\n",
    "y = data['family']\n",
    "\n",
    "# Tamaño objetivo de las clases balanceadas\n",
    "target_class_size = 7000  \n",
    "\n",
    "# Submuestreo para Hacintor\n",
    "subsampled_dfs = []\n",
    "for label in y.unique():\n",
    "    class_data = data[data['family'] == label]\n",
    "    if len(class_data) > target_class_size:\n",
    "        print(f\"Submuestreo {label}\")\n",
    "        subsampled_class = resample(class_data, \n",
    "                                    replace=False, \n",
    "                                    n_samples=target_class_size, \n",
    "                                    random_state=42)\n",
    "        subsampled_dfs.append(subsampled_class)\n",
    "    else:\n",
    "        subsampled_dfs.append(class_data)\n",
    "\n",
    "# Combinar datos submuestreados\n",
    "balanced_df = pd.concat(subsampled_dfs)\n",
    "\n",
    "# Sobremuestreo para clases muy pequeñas\n",
    "X_balanced = balanced_df.drop(columns=['label', 'family', 'file_name'])\n",
    "y_balanced = balanced_df['family']\n",
    "\n",
    "smote = SMOTE(random_state=42)\n",
    "X_resampled, y_resampled = smote.fit_resample(X_balanced, y_balanced)\n",
    "\n",
    "# Crear un nuevo DataFrame balanceado\n",
    "balanced_data = pd.concat([pd.DataFrame(X_resampled, columns=X_balanced.columns), pd.Series(y_resampled, name='family')], axis=1)\n",
    "\n",
    "print(\"Clases después de balancear:\")\n",
    "print(balanced_data['family'].value_counts())\n",
    "\n",
    "# Guardar el dataset balanceado si es necesario\n",
    "balanced_data.to_csv(\"../Datasets/Maldist_balanced1.csv\", index=False)\n"
   ]
  },
  {
   "cell_type": "code",
   "execution_count": 4,
   "metadata": {},
   "outputs": [
    {
     "name": "stderr",
     "output_type": "stream",
     "text": [
      "/tmp/ipykernel_115314/3659528259.py:6: FutureWarning: \n",
      "\n",
      "Passing `palette` without assigning `hue` is deprecated and will be removed in v0.14.0. Assign the `x` variable to `hue` and set `legend=False` for the same effect.\n",
      "\n",
      "  sns.countplot(x='family', data=balanced_data, palette='viridis')\n"
     ]
    },
    {
     "data": {
      "image/png": "[encoded data removed]",
      "text/plain": [
       "<Figure size 800x600 with 1 Axes>"
      ]
     },
     "metadata": {},
     "output_type": "display_data"
    }
   ],
   "source": [
    "import matplotlib.pyplot as plt\n",
    "import seaborn as sns\n",
    "\n",
    "# Barplot para mostrar la distribución de clases\n",
    "plt.figure(figsize=(8, 6))\n",
    "sns.countplot(x='family', data=balanced_data, palette='viridis')\n",
    "plt.title('Distribución de Clases Balanceadas', fontsize=16)\n",
    "plt.xlabel('Clases', fontsize=12)\n",
    "plt.ylabel('Número de muestras', fontsize=12)\n",
    "plt.show()\n"
   ]
  },
  {
   "cell_type": "markdown",
   "metadata": {},
   "source": [
    "Models will be:\n",
    "- Random Forest\n",
    "- Gradient Boosting\n",
    "- KNN\n",
    "- Linear Regression\n",
    "- Neural Networks\n",
    "- LSTM\n"
   ]
  },
  {
   "cell_type": "markdown",
   "metadata": {},
   "source": [
    "### Random Forest"
   ]
  },
  {
   "cell_type": "code",
   "execution_count": 39,
   "metadata": {},
   "outputs": [],
   "source": [
    "from sklearn.model_selection import train_test_split\n",
    "from sklearn.ensemble import RandomForestClassifier\n",
    "from sklearn.metrics import classification_report, accuracy_score, confusion_matrix, precision_score, recall_score, f1_score\n",
    "\n",
    "X = balanced_data.drop(columns=['family'])\n",
    "y = balanced_data['family']\n",
    "\n",
    "X_train, X_test, y_train, y_test = train_test_split(X, y, test_size=0.2, random_state=42)\n",
    "rf = RandomForestClassifier(n_estimators=50)\n",
    "\n",
    "rf.fit(X_train, y_train)\n",
    "\n",
    "y_pred_rf = classif.predict(X_test)"
   ]
  },
  {
   "cell_type": "code",
   "execution_count": 40,
   "metadata": {},
   "outputs": [
    {
     "name": "stdout",
     "output_type": "stream",
     "text": [
      "The score of the algorithm: 98.88571428571429\n"
     ]
    }
   ],
   "source": [
    "print(f\"The score of the algorithm: {classif.score(X_test,y_test)*100}\")"
   ]
  },
  {
   "cell_type": "code",
   "execution_count": 41,
   "metadata": {},
   "outputs": [
    {
     "data": {
      "text/plain": [
       "array([[1433,    0,    1,    0,    0],\n",
       "       [   0, 1397,   11,    0,   12],\n",
       "       [   1,   13, 1393,    5,    3],\n",
       "       [   0,    5,   18, 1341,    1],\n",
       "       [   0,    6,    2,    0, 1358]])"
      ]
     },
     "execution_count": 41,
     "metadata": {},
     "output_type": "execute_result"
    }
   ],
   "source": [
    "cm = confusion_matrix(y_test, y_pred_rf)\n",
    "cm"
   ]
  },
  {
   "cell_type": "code",
   "execution_count": 42,
   "metadata": {},
   "outputs": [
    {
     "data": {
      "image/png": "[encoded data removed]",
      "text/plain": [
       "<Figure size 800x600 with 1 Axes>"
      ]
     },
     "metadata": {},
     "output_type": "display_data"
    }
   ],
   "source": [
    "plt.figure(figsize=(8, 6))\n",
    "sns.heatmap(cm, annot=True, fmt='d', cmap='Blues', xticklabels=balanced_data['family'].unique(), yticklabels=balanced_data['family'].unique(), cbar=False)\n",
    "plt.title('Matriz de Confusión ', fontsize=16)\n",
    "plt.xlabel('Predicción', fontsize=12)\n",
    "plt.ylabel('Realidad', fontsize=12)\n",
    "plt.show()"
   ]
  },
  {
   "cell_type": "code",
   "execution_count": 43,
   "metadata": {},
   "outputs": [
    {
     "data": {
      "text/plain": [
       "'              precision    recall  f1-score   support\\n\\n           0       1.00      1.00      1.00      1434\\n           1       0.98      0.98      0.98      1420\\n           2       0.98      0.98      0.98      1415\\n           3       1.00      0.98      0.99      1365\\n           4       0.99      0.99      0.99      1366\\n\\n    accuracy                           0.99      7000\\n   macro avg       0.99      0.99      0.99      7000\\nweighted avg       0.99      0.99      0.99      7000\\n'"
      ]
     },
     "execution_count": 43,
     "metadata": {},
     "output_type": "execute_result"
    }
   ],
   "source": [
    "classification_report(y_test, y_pred_rf)"
   ]
  },
  {
   "cell_type": "code",
   "execution_count": 44,
   "metadata": {},
   "outputs": [
    {
     "name": "stdout",
     "output_type": "stream",
     "text": [
      "Accuracy: 0.9889\n",
      "Precision: 0.9889\n",
      "Recall: 0.9888\n",
      "F1 Score: 0.9889\n"
     ]
    }
   ],
   "source": [
    "accuracy = accuracy_score(y_test, y_pred_rf)\n",
    "precision = precision_score(y_test, y_pred_rf, average='macro')  # Puedes usar 'micro', 'macro', 'weighted' \n",
    "recall = recall_score(y_test, y_pred_rf, average='macro')\n",
    "f1 = f1_score(y_test, y_pred_rf, average='macro')\n",
    "\n",
    "print(f\"Accuracy: {accuracy:.4f}\")\n",
    "print(f\"Precision: {precision:.4f}\")\n",
    "print(f\"Recall: {recall:.4f}\")\n",
    "print(f\"F1 Score: {f1:.4f}\")"
   ]
  },
  {
   "cell_type": "code",
   "execution_count": 45,
   "metadata": {},
   "outputs": [
    {
     "data": {
      "text/plain": [
       "['models/MalDist_rf_osss_.pkl']"
      ]
     },
     "execution_count": 45,
     "metadata": {},
     "output_type": "execute_result"
    }
   ],
   "source": [
    "import joblib  \n",
    "joblib.dump(rf, \"models/MalDist_rf_osss_.pkl\")"
   ]
  },
  {
   "cell_type": "markdown",
   "metadata": {},
   "source": [
    "### Extratree classifier"
   ]
  },
  {
   "cell_type": "code",
   "execution_count": 46,
   "metadata": {},
   "outputs": [
    {
     "name": "stdout",
     "output_type": "stream",
     "text": [
      "(35000, 334) (35000, 95)\n"
     ]
    },
    {
     "name": "stderr",
     "output_type": "stream",
     "text": [
      "/home/fingopolo/.local/lib/python3.10/site-packages/sklearn/base.py:432: UserWarning: X has feature names, but SelectFromModel was fitted without feature names\n",
      "  warnings.warn(\n"
     ]
    }
   ],
   "source": [
    "from sklearn.ensemble import ExtraTreesClassifier\n",
    "from sklearn.feature_selection import SelectFromModel\n",
    "\n",
    "extratrees = ExtraTreesClassifier().fit(X, y)\n",
    "select = SelectFromModel(extratrees, prefit=True)\n",
    "data_in_new = select.transform(X)\n",
    "\n",
    "print(X.shape, data_in_new.shape)"
   ]
  },
  {
   "cell_type": "code",
   "execution_count": 47,
   "metadata": {},
   "outputs": [
    {
     "name": "stdout",
     "output_type": "stream",
     "text": [
      "1, packet_0_protocol_8, 0.03480208809708146\n",
      "2, packet_0_protocol_3, 0.025204288591953103\n",
      "3, packet_7_protocol_8, 0.021570662995518707\n",
      "4, packet_8_protocol_8, 0.017553718688785743\n",
      "5, stat_3, 0.017167263708201885\n",
      "6, packet_2_protocol_8, 0.01610062826114676\n",
      "7, packet_6_protocol_8, 0.01608288204758282\n",
      "8, packet_3_protocol_8, 0.015999021220850958\n",
      "9, packet_5_protocol_8, 0.015891094076364517\n",
      "10, packet_5_protocol_2, 0.015012639012081323\n",
      "11, packet_3_protocol_5, 0.014924018869984776\n",
      "12, packet_4_protocol_6, 0.014597937949175634\n",
      "13, packet_6_protocol_7, 0.01398093810943151\n",
      "14, packet_3_protocol_2, 0.013246519159624125\n",
      "15, packet_3_protocol_3, 0.013168913635941913\n",
      "16, packet_4_protocol_5, 0.013022282688761332\n",
      "17, stat_2, 0.012562237735595616\n",
      "18, packet_2_protocol_3, 0.011730901250033565\n",
      "19, packet_7_protocol_5, 0.011450691267906345\n",
      "20, packet_1_protocol_8, 0.01144479853065004\n",
      "21, stat_0, 0.010433595892023351\n",
      "22, packet_0_protocol_5, 0.010129739398961985\n",
      "23, packet_1_protocol_6, 0.009846295137024166\n",
      "24, packet_2_protocol_5, 0.00948800507127564\n",
      "25, family, 0.009320965798978238\n",
      "26, packet_8_protocol_7, 0.009210785641370029\n",
      "27, packet_10_protocol_9, 0.008981982077289315\n",
      "28, stat_1, 0.00870111000257162\n",
      "29, packet_6_protocol_3, 0.00857200448790183\n",
      "30, packet_3_protocol_6, 0.00850986390900242\n",
      "31, stat_9, 0.008310415216368048\n",
      "32, packet_4_protocol_8, 0.007628191235732198\n",
      "33, packet_7_protocol_6, 0.0075833351416709945\n",
      "34, packet_5_protocol_7, 0.007546148702937053\n",
      "35, packet_8_protocol_3, 0.007370395881806092\n",
      "36, packet_4_protocol_3, 0.007309649999701866\n",
      "37, stat_7, 0.007230876693698465\n",
      "38, packet_6_protocol_5, 0.0070636942256175885\n",
      "39, packet_13_protocol_8, 0.006999840967515294\n",
      "40, packet_11_protocol_9, 0.006827820340073209\n",
      "41, packet_4_protocol_7, 0.006730693620514233\n",
      "42, packet_11_protocol_8, 0.006615093242899109\n",
      "43, packet_5_protocol_6, 0.006606677991579081\n",
      "44, packet_8_protocol_0, 0.006597656147988917\n",
      "45, packet_2_protocol_7, 0.0065809790192904\n",
      "46, stat_5, 0.006574100025778708\n",
      "47, packet_6_protocol_6, 0.0065174002638407336\n",
      "48, stat_6, 0.006430376269413685\n",
      "49, packet_3_protocol_7, 0.00636157243802277\n",
      "50, packet_12_protocol_8, 0.006298125267174725\n",
      "51, packet_9_protocol_6, 0.0062787265368254574\n",
      "52, packet_12_protocol_3, 0.006165541425431257\n",
      "53, stat_8, 0.006111947082155126\n",
      "54, packet_7_protocol_9, 0.0061018291837450726\n",
      "55, packet_12_protocol_0, 0.005957216202662137\n",
      "56, packet_7_protocol_3, 0.005943333875352734\n",
      "57, packet_5_protocol_3, 0.005932282931149018\n",
      "58, packet_8_protocol_6, 0.005915329253623044\n",
      "59, packet_7_protocol_7, 0.005910112779198126\n",
      "60, packet_11_protocol_4, 0.00580353202559944\n",
      "61, packet_1_protocol_5, 0.005727513307511072\n",
      "62, packet_9_protocol_3, 0.0056857717327309975\n",
      "63, packet_14_protocol_8, 0.005625768418547334\n",
      "64, stat_4, 0.005522121517569951\n",
      "65, packet_1_protocol_3, 0.005496002336984385\n",
      "66, packet_16_protocol_8, 0.005318337210157852\n",
      "67, packet_2_protocol_6, 0.005259257147438465\n",
      "68, packet_8_protocol_5, 0.0050383223613768525\n",
      "69, packet_10_protocol_8, 0.004879723094950942\n",
      "70, packet_9_protocol_5, 0.004850972665763465\n",
      "71, stat_10, 0.004670999396090957\n",
      "72, packet_12_protocol_7, 0.004668984966830659\n",
      "73, packet_9_protocol_8, 0.004621529912371407\n",
      "74, packet_0_protocol_6, 0.0045588548703906755\n",
      "75, packet_14_protocol_3, 0.004550594706132276\n",
      "76, packet_10_protocol_5, 0.004504855525208742\n",
      "77, stat_12, 0.004378973381318676\n",
      "78, packet_11_protocol_3, 0.0043453145005893515\n",
      "79, packet_10_protocol_6, 0.004298029351792607\n",
      "80, packet_13_protocol_3, 0.00427773693218551\n",
      "81, packet_8_protocol_4, 0.004250108289353601\n",
      "82, packet_9_protocol_7, 0.004081093403688157\n",
      "83, packet_12_protocol_9, 0.004048230084733042\n",
      "84, stat_11, 0.004019731250288838\n",
      "85, packet_11_protocol_5, 0.004009857579309127\n",
      "86, packet_0_protocol_7, 0.003986259757746874\n",
      "87, packet_6_protocol_2, 0.003952803225291143\n",
      "88, packet_11_protocol_7, 0.003721383330821529\n",
      "89, packet_11_protocol_6, 0.003651605875686575\n",
      "90, packet_10_protocol_7, 0.0036296068523657427\n",
      "91, packet_5_protocol_5, 0.003584400003721088\n",
      "92, packet_10_protocol_0, 0.0035160231096569034\n",
      "93, packet_13_protocol_0, 0.0034962018642822803\n",
      "94, packet_7_protocol_2, 0.0030724148894610104\n",
      "95, packet_1_protocol_7, 0.0030269901523645726\n"
     ]
    }
   ],
   "source": [
    "features = data_in_new.shape[1]\n",
    "importances = extratrees.feature_importances_\n",
    "indices = np.argsort(importances)[::-1]\n",
    "\n",
    "for f in range(features):\n",
    "    print(f\"{f+1}, {data.columns[2+indices[f]]}, {importances[indices[f]]}\")"
   ]
  },
  {
   "cell_type": "code",
   "execution_count": 50,
   "metadata": {},
   "outputs": [],
   "source": [
    "X_train_extree, X_test_extree, y_train_extree, y_test_extree = train_test_split(data_in_new, y, test_size=0.2, random_state=42)\n",
    "rf_extree = RandomForestClassifier(n_estimators=50)\n",
    "\n",
    "rf_extree.fit(X_train_extree, y_train_extree)\n",
    "\n",
    "y_pred_extree = rf_extree.predict(X_test_extree)"
   ]
  },
  {
   "cell_type": "code",
   "execution_count": 51,
   "metadata": {},
   "outputs": [
    {
     "name": "stdout",
     "output_type": "stream",
     "text": [
      "The score of the algorithm: 98.85714285714286\n"
     ]
    }
   ],
   "source": [
    "print(f\"The score of the algorithm: {rf_extree.score(X_test_extree,y_test_extree)*100}\")"
   ]
  },
  {
   "cell_type": "code",
   "execution_count": 52,
   "metadata": {},
   "outputs": [
    {
     "data": {
      "text/plain": [
       "array([[1434,    0,    0,    0,    0],\n",
       "       [   0, 1394,   11,    0,   15],\n",
       "       [   1,   13, 1391,    4,    6],\n",
       "       [   0,    3,   18, 1344,    0],\n",
       "       [   0,    9,    0,    0, 1357]])"
      ]
     },
     "execution_count": 52,
     "metadata": {},
     "output_type": "execute_result"
    }
   ],
   "source": [
    "cm = confusion_matrix(y_test_extree, y_pred_extree)\n",
    "cm"
   ]
  },
  {
   "cell_type": "code",
   "execution_count": 53,
   "metadata": {},
   "outputs": [
    {
     "data": {
      "image/png": "[encoded data removed]",
      "text/plain": [
       "<Figure size 800x600 with 1 Axes>"
      ]
     },
     "metadata": {},
     "output_type": "display_data"
    }
   ],
   "source": [
    "plt.figure(figsize=(8, 6))\n",
    "sns.heatmap(cm, annot=True, fmt='d', cmap='Blues', xticklabels=balanced_data['family'].unique(), yticklabels=balanced_data['family'].unique(), cbar=False)\n",
    "plt.title('Matriz de Confusión ', fontsize=16)\n",
    "plt.xlabel('Predicción', fontsize=12)\n",
    "plt.ylabel('Realidad', fontsize=12)\n",
    "plt.show()"
   ]
  },
  {
   "cell_type": "code",
   "execution_count": 54,
   "metadata": {},
   "outputs": [
    {
     "data": {
      "text/plain": [
       "'              precision    recall  f1-score   support\\n\\n           0       1.00      1.00      1.00      1434\\n           1       0.98      0.98      0.98      1420\\n           2       0.98      0.98      0.98      1415\\n           3       1.00      0.98      0.99      1365\\n           4       0.98      0.99      0.99      1366\\n\\n    accuracy                           0.99      7000\\n   macro avg       0.99      0.99      0.99      7000\\nweighted avg       0.99      0.99      0.99      7000\\n'"
      ]
     },
     "execution_count": 54,
     "metadata": {},
     "output_type": "execute_result"
    }
   ],
   "source": [
    "classification_report(y_test_extree, y_pred_extree)"
   ]
  },
  {
   "cell_type": "code",
   "execution_count": 55,
   "metadata": {},
   "outputs": [
    {
     "name": "stdout",
     "output_type": "stream",
     "text": [
      "Accuracy: 0.9886\n",
      "Precision: 0.9886\n",
      "Recall: 0.9886\n",
      "F1 Score: 0.9886\n"
     ]
    }
   ],
   "source": [
    "accuracy = accuracy_score(y_test_extree, y_pred_extree)\n",
    "precision = precision_score(y_test_extree, y_pred_extree, average='macro')  # Puedes usar 'micro', 'macro', 'weighted' \n",
    "recall = recall_score(y_test_extree, y_pred_extree, average='macro')\n",
    "f1 = f1_score(y_test_extree, y_pred_extree, average='macro')\n",
    "\n",
    "print(f\"Accuracy: {accuracy:.4f}\")\n",
    "print(f\"Precision: {precision:.4f}\")\n",
    "print(f\"Recall: {recall:.4f}\")\n",
    "print(f\"F1 Score: {f1:.4f}\")"
   ]
  },
  {
   "cell_type": "code",
   "execution_count": 56,
   "metadata": {},
   "outputs": [
    {
     "data": {
      "text/plain": [
       "['models/MalDist_extree_osss_.pkl']"
      ]
     },
     "execution_count": 56,
     "metadata": {},
     "output_type": "execute_result"
    }
   ],
   "source": [
    "joblib.dump(rf_extree, \"models/MalDist_extree_osss_.pkl\")"
   ]
  },
  {
   "cell_type": "markdown",
   "metadata": {},
   "source": [
    "### Gradient Boosting (XGBoost)"
   ]
  },
  {
   "cell_type": "code",
   "execution_count": 22,
   "metadata": {},
   "outputs": [
    {
     "name": "stdout",
     "output_type": "stream",
     "text": [
      "Defaulting to user installation because normal site-packages is not writeable\n",
      "Collecting xgboost\n",
      "  Downloading xgboost-2.1.4-py3-none-manylinux_2_28_x86_64.whl.metadata (2.1 kB)\n",
      "Requirement already satisfied: numpy in /home/fingopolo/.local/lib/python3.10/site-packages (from xgboost) (1.24.3)\n",
      "Collecting nvidia-nccl-cu12 (from xgboost)\n",
      "  Downloading nvidia_nccl_cu12-2.25.1-py3-none-manylinux2014_x86_64.manylinux_2_17_x86_64.whl.metadata (1.8 kB)\n",
      "Requirement already satisfied: scipy in /home/fingopolo/.local/lib/python3.10/site-packages (from xgboost) (1.14.1)\n",
      "Downloading xgboost-2.1.4-py3-none-manylinux_2_28_x86_64.whl (223.6 MB)\n",
      "\u001b[2K   \u001b[90m━━━━━━━━━━━━━━━━━━━━━━━━━━━━━━━━━━━━━━━━\u001b[0m \u001b[32m223.6/223.6 MB\u001b[0m \u001b[31m1.2 MB/s\u001b[0m eta \u001b[36m0:00:00\u001b[0m00:01\u001b[0m00:05\u001b[0mm\n",
      "\u001b[?25hDownloading nvidia_nccl_cu12-2.25.1-py3-none-manylinux2014_x86_64.manylinux_2_17_x86_64.whl (201.4 MB)\n",
      "\u001b[2K   \u001b[90m━━━━━━━━━━━━━━━━━━━━━━━━━━━━━━━━━━━━━━━━\u001b[0m \u001b[32m201.4/201.4 MB\u001b[0m \u001b[31m1.1 MB/s\u001b[0m eta \u001b[36m0:00:00\u001b[0m00:01\u001b[0m00:05\u001b[0m\n",
      "\u001b[?25hInstalling collected packages: nvidia-nccl-cu12, xgboost\n",
      "Successfully installed nvidia-nccl-cu12-2.25.1 xgboost-2.1.4\n",
      "\n",
      "\u001b[1m[\u001b[0m\u001b[34;49mnotice\u001b[0m\u001b[1;39;49m]\u001b[0m\u001b[39;49m A new release of pip is available: \u001b[0m\u001b[31;49m25.0\u001b[0m\u001b[39;49m -> \u001b[0m\u001b[32;49m25.0.1\u001b[0m\n",
      "\u001b[1m[\u001b[0m\u001b[34;49mnotice\u001b[0m\u001b[1;39;49m]\u001b[0m\u001b[39;49m To update, run: \u001b[0m\u001b[32;49mpip install --upgrade pip\u001b[0m\n"
     ]
    }
   ],
   "source": [
    "!pip install xgboost"
   ]
  },
  {
   "cell_type": "code",
   "execution_count": 23,
   "metadata": {},
   "outputs": [
    {
     "name": "stdout",
     "output_type": "stream",
     "text": [
      "XGBoost Classifier\n",
      "              precision    recall  f1-score   support\n",
      "\n",
      "           0       1.00      1.00      1.00      1434\n",
      "           1       0.97      0.98      0.98      1420\n",
      "           2       0.98      0.99      0.98      1415\n",
      "           3       1.00      0.98      0.99      1365\n",
      "           4       0.98      0.98      0.98      1366\n",
      "\n",
      "    accuracy                           0.99      7000\n",
      "   macro avg       0.99      0.99      0.99      7000\n",
      "weighted avg       0.99      0.99      0.99      7000\n",
      "\n",
      "Accuracy: 0.9860\n"
     ]
    }
   ],
   "source": [
    "from xgboost import XGBClassifier\n",
    "\n",
    "# Crear y entrenar el modelo de Gradient Boosting\n",
    "xgb = XGBClassifier(n_estimators=100, learning_rate=0.1, max_depth=5, random_state=42)\n",
    "xgb.fit(X_train, y_train)\n",
    "\n",
    "# Predecir y evaluar\n",
    "y_pred_xgb = xgb.predict(X_test)\n",
    "\n",
    "print(\"XGBoost Classifier\")\n",
    "print(classification_report(y_test, y_pred_xgb))\n",
    "print(f\"Accuracy: {accuracy_score(y_test, y_pred_xgb):.4f}\")"
   ]
  },
  {
   "cell_type": "code",
   "execution_count": 31,
   "metadata": {},
   "outputs": [
    {
     "name": "stdout",
     "output_type": "stream",
     "text": [
      "The score of the algorithm: 98.6\n"
     ]
    }
   ],
   "source": [
    "print(f\"The score of the algorithm: {xgb.score(X_test,y_test)*100}\")"
   ]
  },
  {
   "cell_type": "code",
   "execution_count": 35,
   "metadata": {},
   "outputs": [
    {
     "data": {
      "image/png": "[encoded data removed]",
      "text/plain": [
       "<Figure size 800x600 with 1 Axes>"
      ]
     },
     "metadata": {},
     "output_type": "display_data"
    }
   ],
   "source": [
    "cm = confusion_matrix(y_test, y_pred_xgb)\n",
    "plt.figure(figsize=(8, 6))\n",
    "sns.heatmap(cm, annot=True, fmt='d', cmap='Blues', xticklabels=balanced_data['family'].unique(), yticklabels=balanced_data['family'].unique(), cbar=False)\n",
    "plt.title('Matriz de Confusión ', fontsize=16)\n",
    "plt.xlabel('Predicción', fontsize=12)\n",
    "plt.ylabel('Realidad', fontsize=12)\n",
    "plt.show()"
   ]
  },
  {
   "cell_type": "code",
   "execution_count": 24,
   "metadata": {},
   "outputs": [
    {
     "name": "stdout",
     "output_type": "stream",
     "text": [
      "Accuracy: 0.9860\n",
      "Precision: 0.9861\n",
      "Recall: 0.9859\n",
      "F1 Score: 0.9860\n"
     ]
    }
   ],
   "source": [
    "accuracy = accuracy_score(y_test, y_pred_xgb)\n",
    "precision = precision_score(y_test, y_pred_xgb, average='macro')  # Puedes usar 'micro', 'macro', 'weighted' \n",
    "recall = recall_score(y_test, y_pred_xgb, average='macro')\n",
    "f1 = f1_score(y_test, y_pred_xgb, average='macro')\n",
    "\n",
    "print(f\"Accuracy: {accuracy:.4f}\")\n",
    "print(f\"Precision: {precision:.4f}\")\n",
    "print(f\"Recall: {recall:.4f}\")\n",
    "print(f\"F1 Score: {f1:.4f}\")"
   ]
  },
  {
   "cell_type": "code",
   "execution_count": 32,
   "metadata": {},
   "outputs": [
    {
     "data": {
      "text/plain": [
       "['models/MalDist_xgb_osss_.pkl']"
      ]
     },
     "execution_count": 32,
     "metadata": {},
     "output_type": "execute_result"
    }
   ],
   "source": [
    "joblib.dump(xgb, \"models/MalDist_xgb_osss_.pkl\")"
   ]
  },
  {
   "cell_type": "markdown",
   "metadata": {},
   "source": [
    "### KNN"
   ]
  },
  {
   "cell_type": "code",
   "execution_count": 33,
   "metadata": {},
   "outputs": [
    {
     "name": "stdout",
     "output_type": "stream",
     "text": [
      "K-Nearest Neighbors\n",
      "              precision    recall  f1-score   support\n",
      "\n",
      "           0       0.95      0.97      0.96      1434\n",
      "           1       0.91      0.95      0.93      1420\n",
      "           2       0.96      0.87      0.91      1415\n",
      "           3       0.99      0.96      0.97      1365\n",
      "           4       0.92      0.98      0.95      1366\n",
      "\n",
      "    accuracy                           0.95      7000\n",
      "   macro avg       0.95      0.95      0.95      7000\n",
      "weighted avg       0.95      0.95      0.95      7000\n",
      "\n",
      "Accuracy: 0.9456\n"
     ]
    }
   ],
   "source": [
    "from sklearn.neighbors import KNeighborsClassifier\n",
    "\n",
    "# Crear y entrenar el modelo KNN\n",
    "knn = KNeighborsClassifier(n_neighbors=10)\n",
    "knn.fit(X_train, y_train)\n",
    "\n",
    "# Predecir y evaluar\n",
    "y_pred_knn = knn.predict(X_test)\n",
    "\n",
    "print(\"K-Nearest Neighbors\")\n",
    "print(classification_report(y_test, y_pred_knn))\n",
    "print(f\"Accuracy: {accuracy_score(y_test, y_pred_knn):.4f}\")"
   ]
  },
  {
   "cell_type": "code",
   "execution_count": 34,
   "metadata": {},
   "outputs": [
    {
     "name": "stdout",
     "output_type": "stream",
     "text": [
      "The score of the algorithm: 94.55714285714286\n"
     ]
    }
   ],
   "source": [
    "print(f\"The score of the algorithm: {knn.score(X_test,y_test)*100}\")"
   ]
  },
  {
   "cell_type": "code",
   "execution_count": 36,
   "metadata": {},
   "outputs": [
    {
     "data": {
      "image/png": "[encoded data removed]",
      "text/plain": [
       "<Figure size 800x600 with 1 Axes>"
      ]
     },
     "metadata": {},
     "output_type": "display_data"
    }
   ],
   "source": [
    "cm = confusion_matrix(y_test, y_pred_knn)\n",
    "plt.figure(figsize=(8, 6))\n",
    "sns.heatmap(cm, annot=True, fmt='d', cmap='Blues', xticklabels=balanced_data['family'].unique(), yticklabels=balanced_data['family'].unique(), cbar=False)\n",
    "plt.title('Matriz de Confusión ', fontsize=16)\n",
    "plt.xlabel('Predicción', fontsize=12)\n",
    "plt.ylabel('Realidad', fontsize=12)\n",
    "plt.show()"
   ]
  },
  {
   "cell_type": "code",
   "execution_count": 37,
   "metadata": {},
   "outputs": [
    {
     "name": "stdout",
     "output_type": "stream",
     "text": [
      "Accuracy: 0.9456\n",
      "Precision: 0.9466\n",
      "Recall: 0.9458\n",
      "F1 Score: 0.9456\n"
     ]
    }
   ],
   "source": [
    "accuracy = accuracy_score(y_test, y_pred_knn)\n",
    "precision = precision_score(y_test, y_pred_knn, average='macro')  # Puedes usar 'micro', 'macro', 'weighted' \n",
    "recall = recall_score(y_test, y_pred_knn, average='macro')\n",
    "f1 = f1_score(y_test, y_pred_knn, average='macro')\n",
    "\n",
    "print(f\"Accuracy: {accuracy:.4f}\")\n",
    "print(f\"Precision: {precision:.4f}\")\n",
    "print(f\"Recall: {recall:.4f}\")\n",
    "print(f\"F1 Score: {f1:.4f}\")"
   ]
  },
  {
   "cell_type": "code",
   "execution_count": 61,
   "metadata": {},
   "outputs": [
    {
     "data": {
      "text/plain": [
       "['models/MalDist_knn_osss_.pkl']"
      ]
     },
     "execution_count": 61,
     "metadata": {},
     "output_type": "execute_result"
    }
   ],
   "source": [
    "joblib.dump(knn, \"models/MalDist_knn_osss_.pkl\")"
   ]
  },
  {
   "cell_type": "markdown",
   "metadata": {},
   "source": [
    "### Logistic Regresion"
   ]
  },
  {
   "cell_type": "code",
   "execution_count": 57,
   "metadata": {},
   "outputs": [
    {
     "name": "stdout",
     "output_type": "stream",
     "text": [
      "Logistic Regression\n",
      "              precision    recall  f1-score   support\n",
      "\n",
      "           0       0.91      0.87      0.89      1434\n",
      "           1       0.81      0.83      0.82      1420\n",
      "           2       0.85      0.80      0.83      1415\n",
      "           3       0.92      0.95      0.93      1365\n",
      "           4       0.81      0.84      0.82      1366\n",
      "\n",
      "    accuracy                           0.86      7000\n",
      "   macro avg       0.86      0.86      0.86      7000\n",
      "weighted avg       0.86      0.86      0.86      7000\n",
      "\n",
      "Accuracy: 0.8597\n"
     ]
    },
    {
     "name": "stderr",
     "output_type": "stream",
     "text": [
      "/home/fingopolo/.local/lib/python3.10/site-packages/sklearn/linear_model/_logistic.py:458: ConvergenceWarning: lbfgs failed to converge (status=1):\n",
      "STOP: TOTAL NO. of ITERATIONS REACHED LIMIT.\n",
      "\n",
      "Increase the number of iterations (max_iter) or scale the data as shown in:\n",
      "    https://scikit-learn.org/stable/modules/preprocessing.html\n",
      "Please also refer to the documentation for alternative solver options:\n",
      "    https://scikit-learn.org/stable/modules/linear_model.html#logistic-regression\n",
      "  n_iter_i = _check_optimize_result(\n"
     ]
    }
   ],
   "source": [
    "from sklearn.linear_model import LogisticRegression\n",
    "\n",
    "# Crear y entrenar el modelo de Regresión Lineal\n",
    "log_reg = LogisticRegression(max_iter=1000, random_state=42)\n",
    "log_reg.fit(X_train, y_train)\n",
    "\n",
    "# Predecir y evaluar\n",
    "y_pred_log_reg = log_reg.predict(X_test)\n",
    "\n",
    "print(\"Logistic Regression\")\n",
    "print(classification_report(y_test, y_pred_log_reg))\n",
    "print(f\"Accuracy: {accuracy_score(y_test, y_pred_log_reg):.4f}\")"
   ]
  },
  {
   "cell_type": "code",
   "execution_count": 58,
   "metadata": {},
   "outputs": [
    {
     "name": "stdout",
     "output_type": "stream",
     "text": [
      "The score of the algorithm: 85.97142857142858\n"
     ]
    }
   ],
   "source": [
    "print(f\"The score of the algorithm: {log_reg.score(X_test,y_test)*100}\")"
   ]
  },
  {
   "cell_type": "code",
   "execution_count": 59,
   "metadata": {},
   "outputs": [
    {
     "data": {
      "image/png": "[encoded data removed]",
      "text/plain": [
       "<Figure size 800x600 with 1 Axes>"
      ]
     },
     "metadata": {},
     "output_type": "display_data"
    }
   ],
   "source": [
    "cm = confusion_matrix(y_test, y_pred_log_reg)\n",
    "plt.figure(figsize=(8, 6))\n",
    "sns.heatmap(cm, annot=True, fmt='d', cmap='Blues', xticklabels=balanced_data['family'].unique(), yticklabels=balanced_data['family'].unique(), cbar=False)\n",
    "plt.title('Matriz de Confusión ', fontsize=16)\n",
    "plt.xlabel('Predicción', fontsize=12)\n",
    "plt.ylabel('Realidad', fontsize=12)\n",
    "plt.show()"
   ]
  },
  {
   "cell_type": "code",
   "execution_count": 60,
   "metadata": {},
   "outputs": [
    {
     "name": "stdout",
     "output_type": "stream",
     "text": [
      "Accuracy: 0.8597\n",
      "Precision: 0.8603\n",
      "Recall: 0.8602\n",
      "F1 Score: 0.8599\n"
     ]
    }
   ],
   "source": [
    "accuracy = accuracy_score(y_test, y_pred_log_reg)\n",
    "precision = precision_score(y_test, y_pred_log_reg, average='macro')  # Puedes usar 'micro', 'macro', 'weighted' \n",
    "recall = recall_score(y_test, y_pred_log_reg, average='macro')\n",
    "f1 = f1_score(y_test, y_pred_log_reg, average='macro')\n",
    "\n",
    "print(f\"Accuracy: {accuracy:.4f}\")\n",
    "print(f\"Precision: {precision:.4f}\")\n",
    "print(f\"Recall: {recall:.4f}\")\n",
    "print(f\"F1 Score: {f1:.4f}\")"
   ]
  },
  {
   "cell_type": "code",
   "execution_count": 62,
   "metadata": {},
   "outputs": [
    {
     "data": {
      "text/plain": [
       "['models/MalDist_logreg_osss_.pkl']"
      ]
     },
     "execution_count": 62,
     "metadata": {},
     "output_type": "execute_result"
    }
   ],
   "source": [
    "joblib.dump(log_reg, \"models/MalDist_logreg_osss_.pkl\")"
   ]
  },
  {
   "cell_type": "markdown",
   "metadata": {},
   "source": [
    "### Neural Networks (MLP - Multi-layer Perceptron)"
   ]
  },
  {
   "cell_type": "code",
   "execution_count": 63,
   "metadata": {},
   "outputs": [
    {
     "name": "stdout",
     "output_type": "stream",
     "text": [
      "MLP Classifier\n",
      "              precision    recall  f1-score   support\n",
      "\n",
      "           0       1.00      1.00      1.00      1434\n",
      "           1       0.96      0.97      0.96      1420\n",
      "           2       0.97      0.96      0.96      1415\n",
      "           3       0.99      0.98      0.98      1365\n",
      "           4       0.97      0.97      0.97      1366\n",
      "\n",
      "    accuracy                           0.97      7000\n",
      "   macro avg       0.97      0.97      0.97      7000\n",
      "weighted avg       0.97      0.97      0.97      7000\n",
      "\n",
      "Accuracy: 0.9749\n"
     ]
    }
   ],
   "source": [
    "from sklearn.neural_network import MLPClassifier\n",
    "from sklearn.preprocessing import StandardScaler\n",
    "\n",
    "# Escalar los datos\n",
    "scaler = StandardScaler()\n",
    "X_train_scaled = scaler.fit_transform(X_train)\n",
    "X_test_scaled = scaler.transform(X_test)\n",
    "\n",
    "# Crear y entrenar el modelo de red neuronal\n",
    "mlp = MLPClassifier(hidden_layer_sizes=(100, 50), max_iter=300, activation='relu', solver='adam', random_state=42)\n",
    "mlp.fit(X_train_scaled, y_train)\n",
    "\n",
    "# Predecir y evaluar\n",
    "y_pred_mlp = mlp.predict(X_test_scaled)\n",
    "\n",
    "print(\"MLP Classifier\")\n",
    "print(classification_report(y_test, y_pred_mlp))\n",
    "print(f\"Accuracy: {accuracy_score(y_test, y_pred_mlp):.4f}\")"
   ]
  },
  {
   "cell_type": "code",
   "execution_count": 64,
   "metadata": {},
   "outputs": [
    {
     "name": "stdout",
     "output_type": "stream",
     "text": [
      "The score of the algorithm: 97.48571428571428\n"
     ]
    }
   ],
   "source": [
    "print(f\"The score of the algorithm: {mlp.score(X_test_scaled,y_test)*100}\")"
   ]
  },
  {
   "cell_type": "code",
   "execution_count": 66,
   "metadata": {},
   "outputs": [
    {
     "data": {
      "image/png": "[encoded data removed]",
      "text/plain": [
       "<Figure size 800x600 with 1 Axes>"
      ]
     },
     "metadata": {},
     "output_type": "display_data"
    }
   ],
   "source": [
    "cm = confusion_matrix(y_test, y_pred_mlp)\n",
    "plt.figure(figsize=(8, 6))\n",
    "sns.heatmap(cm, annot=True, fmt='d', cmap='Blues', xticklabels=balanced_data['family'].unique(), yticklabels=balanced_data['family'].unique(), cbar=False)\n",
    "plt.title('Matriz de Confusión ', fontsize=16)\n",
    "plt.xlabel('Predicción', fontsize=12)\n",
    "plt.ylabel('Realidad', fontsize=12)\n",
    "plt.show()"
   ]
  },
  {
   "cell_type": "code",
   "execution_count": 67,
   "metadata": {},
   "outputs": [
    {
     "name": "stdout",
     "output_type": "stream",
     "text": [
      "Accuracy: 0.9749\n",
      "Precision: 0.9749\n",
      "Recall: 0.9748\n",
      "F1 Score: 0.9748\n"
     ]
    }
   ],
   "source": [
    "accuracy = accuracy_score(y_test, y_pred_mlp)\n",
    "precision = precision_score(y_test, y_pred_mlp, average='macro')  # Puedes usar 'micro', 'macro', 'weighted' \n",
    "recall = recall_score(y_test, y_pred_mlp, average='macro')\n",
    "f1 = f1_score(y_test, y_pred_mlp, average='macro')\n",
    "\n",
    "print(f\"Accuracy: {accuracy:.4f}\")\n",
    "print(f\"Precision: {precision:.4f}\")\n",
    "print(f\"Recall: {recall:.4f}\")\n",
    "print(f\"F1 Score: {f1:.4f}\")"
   ]
  },
  {
   "cell_type": "code",
   "execution_count": 68,
   "metadata": {},
   "outputs": [
    {
     "data": {
      "text/plain": [
       "['models/MalDist_mlp_osss_.pkl']"
      ]
     },
     "execution_count": 68,
     "metadata": {},
     "output_type": "execute_result"
    }
   ],
   "source": [
    "joblib.dump(mlp, \"models/MalDist_mlp_osss_.pkl\")"
   ]
  }
 ],
 "metadata": {
  "kernelspec": {
   "display_name": "Python 3",
   "language": "python",
   "name": "python3"
  },
  "language_info": {
   "codemirror_mode": {
    "name": "ipython",
    "version": 3
   },
   "file_extension": ".py",
   "mimetype": "text/x-python",
   "name": "python",
   "nbconvert_exporter": "python",
   "pygments_lexer": "ipython3",
   "version": "3.10.13"
  }
 },
 "nbformat": 4,
 "nbformat_minor": 2
}
