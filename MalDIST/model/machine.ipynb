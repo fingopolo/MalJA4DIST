{
 "cells": [
  {
   "cell_type": "code",
   "execution_count": 1,
   "metadata": {},
   "outputs": [
    {
     "name": "stdout",
     "output_type": "stream",
     "text": [
      "The shape of the legit dataset is 3050 samples, 336 features\n",
      "The shape of the mal dataset is 67166 samples, 336 features\n"
     ]
    }
   ],
   "source": [
    "import pandas as pd\n",
    "\n",
    "data = pd.read_csv(\"../Datasets/MalDist_Dataset.csv\", sep=\",\")\n",
    "\n",
    "mal = data[data['label'] == 1].drop(columns=['label'])\n",
    "legit = data[data['label'] == 0].drop(columns=['label'])\n",
    "\n",
    "print(f\"The shape of the legit dataset is {legit.shape[0]} samples, {legit.shape[1]} features\")\n",
    "print(f\"The shape of the mal dataset is {mal.shape[0]} samples, {mal.shape[1]} features\")"
   ]
  },
  {
   "cell_type": "code",
   "execution_count": 3,
   "metadata": {},
   "outputs": [
    {
     "name": "stdout",
     "output_type": "stream",
     "text": [
      "The shape of the dridex dataset is 1987 samples, 337 features\n",
      "The shape of the emotet dataset is 5597 samples, 337 features\n",
      "The shape of the hancitor dataset is 58431 samples, 337 features\n",
      "The shape of the valak dataset is 1151 samples, 337 features\n",
      "The shape of the benign dataset is 3050 samples, 337 features\n"
     ]
    }
   ],
   "source": [
    "dridex = pd.read_csv(\"../Datasets/Dridex.csv\", sep=\",\")\n",
    "emotet = pd.read_csv(\"../Datasets/Emotet.csv\", sep=\",\")\n",
    "hancitor = pd.read_csv(\"../Datasets/Hancitor.csv\", sep=\",\")\n",
    "valak = pd.read_csv(\"../Datasets/Valak.csv\", sep=\",\")\n",
    "benign = pd.read_csv(\"../Datasets/Benign.csv\", sep=\",\")\n",
    "\n",
    "print(f\"The shape of the dridex dataset is {dridex.shape[0]} samples, {dridex.shape[1]} features\")\n",
    "print(f\"The shape of the emotet dataset is {emotet.shape[0]} samples, {emotet.shape[1]} features\")\n",
    "print(f\"The shape of the hancitor dataset is {hancitor.shape[0]} samples, {hancitor.shape[1]} features\")\n",
    "print(f\"The shape of the valak dataset is {valak.shape[0]} samples, {valak.shape[1]} features\")\n",
    "print(f\"The shape of the benign dataset is {benign.shape[0]} samples, {benign.shape[1]} features\")"
   ]
  },
  {
   "cell_type": "code",
   "execution_count": 3,
   "metadata": {},
   "outputs": [
    {
     "name": "stdout",
     "output_type": "stream",
     "text": [
      "(69576, 334) (69576, 87)\n"
     ]
    }
   ],
   "source": [
    "from sklearn.ensemble import ExtraTreesClassifier\n",
    "from sklearn.feature_selection import SelectFromModel\n",
    "from sklearn.model_selection import train_test_split\n",
    "#from sklearn import cross_validation\n",
    "import numpy as np\n",
    "\n",
    "\n",
    "\n",
    "data_in = data.drop(['file_name', 'label', 'family'], axis=1).values\n",
    "labels = data['label'].values\n",
    "\n",
    "\n",
    "\n",
    "\n",
    "extratrees = ExtraTreesClassifier().fit(data_in, labels)\n",
    "select = SelectFromModel(extratrees, prefit=True)\n",
    "data_in_new = select.transform(data_in)\n",
    "\n",
    "print(data_in.shape, data_in_new.shape)"
   ]
  },
  {
   "cell_type": "code",
   "execution_count": 6,
   "metadata": {},
   "outputs": [
    {
     "name": "stdout",
     "output_type": "stream",
     "text": [
      "1, packet_0_protocol_3, 0.07434112390795918\n",
      "2, packet_2_protocol_3, 0.051606682397892935\n",
      "3, packet_0_protocol_8, 0.048142857089074266\n",
      "4, packet_3_protocol_3, 0.045298013963794535\n",
      "5, packet_1_protocol_8, 0.027222018891014013\n",
      "6, packet_8_protocol_3, 0.02516582105805351\n",
      "7, packet_27_protocol_4, 0.018457024239617863\n",
      "8, packet_7_protocol_3, 0.01758976690464767\n",
      "9, packet_6_protocol_3, 0.016083557643283838\n",
      "10, packet_0_protocol_5, 0.01461509376485666\n",
      "11, packet_2_protocol_5, 0.01251061414897932\n",
      "12, packet_2_protocol_8, 0.012348330836148806\n",
      "13, packet_25_protocol_9, 0.01083402940704569\n",
      "14, packet_5_protocol_3, 0.010491204562238256\n",
      "15, packet_3_protocol_8, 0.010196399713088902\n",
      "16, packet_9_protocol_3, 0.009789100093053296\n",
      "17, packet_10_protocol_8, 0.009386943197082708\n",
      "18, packet_1_protocol_3, 0.00935394905235704\n",
      "19, packet_28_protocol_0, 0.009270948378605582\n",
      "20, packet_30_protocol_9, 0.009039070266903194\n",
      "21, packet_28_protocol_4, 0.00894768433576996\n",
      "22, packet_27_protocol_0, 0.008774886786081688\n",
      "23, family, 0.008506193998143695\n",
      "24, packet_6_protocol_8, 0.008459483063997483\n",
      "25, packet_18_protocol_3, 0.008335580750485825\n",
      "26, packet_10_protocol_3, 0.00826201153331353\n",
      "27, packet_21_protocol_3, 0.008223118790403789\n",
      "28, packet_23_protocol_0, 0.00818594186355313\n",
      "29, packet_16_protocol_3, 0.00797894214270552\n",
      "30, packet_13_protocol_3, 0.0077615748061876525\n",
      "31, packet_24_protocol_3, 0.007672677513084043\n",
      "32, packet_7_protocol_8, 0.007626811286725461\n",
      "33, packet_4_protocol_3, 0.007596906603474761\n",
      "34, packet_0_protocol_2, 0.0074893872650168645\n",
      "35, packet_24_protocol_9, 0.007333168311840488\n",
      "36, packet_27_protocol_3, 0.007185114498822685\n",
      "37, packet_0_protocol_7, 0.007078876842307748\n",
      "38, packet_15_protocol_3, 0.006993055272031532\n",
      "39, packet_11_protocol_3, 0.006916588070369542\n",
      "40, packet_8_protocol_8, 0.0068869954002784\n",
      "41, packet_28_protocol_9, 0.006781139766983047\n",
      "42, packet_5_protocol_6, 0.006735133729530568\n",
      "43, packet_24_protocol_4, 0.006665902133525584\n",
      "44, packet_26_protocol_4, 0.006563291542564945\n",
      "45, packet_26_protocol_9, 0.0065137337681033846\n",
      "46, packet_9_protocol_8, 0.006385672199211787\n",
      "47, packet_4_protocol_8, 0.006019195852100459\n",
      "48, packet_5_protocol_8, 0.005811967683308328\n",
      "49, packet_15_protocol_8, 0.005771683028676755\n",
      "50, packet_23_protocol_8, 0.00561852861046141\n",
      "51, packet_19_protocol_3, 0.005585874888846278\n",
      "52, packet_11_protocol_8, 0.005569766836465035\n",
      "53, packet_1_protocol_6, 0.005187404288106564\n",
      "54, packet_6_protocol_5, 0.005012344098445497\n",
      "55, packet_12_protocol_3, 0.005001818653495629\n",
      "56, packet_14_protocol_3, 0.004971331805851259\n",
      "57, packet_27_protocol_9, 0.004909534224830187\n",
      "58, packet_1_protocol_2, 0.004862593276623884\n",
      "59, packet_26_protocol_3, 0.004836929188854548\n",
      "60, packet_3_protocol_5, 0.004689417411945167\n",
      "61, packet_29_protocol_4, 0.004456715427846941\n",
      "62, packet_25_protocol_4, 0.0044500728524711295\n",
      "63, packet_26_protocol_0, 0.00441913865614017\n",
      "64, packet_28_protocol_7, 0.004396851653106424\n",
      "65, packet_31_protocol_0, 0.004396143321887909\n",
      "66, packet_23_protocol_9, 0.004362833367957699\n",
      "67, packet_29_protocol_0, 0.004344215044521173\n",
      "68, packet_29_protocol_9, 0.0043441423519789924\n",
      "69, packet_26_protocol_7, 0.004298973233238277\n",
      "70, packet_31_protocol_7, 0.004190339375742292\n",
      "71, packet_23_protocol_4, 0.00417453775177441\n",
      "72, packet_20_protocol_3, 0.004147617395316881\n",
      "73, packet_19_protocol_8, 0.003895133500679733\n",
      "74, packet_22_protocol_0, 0.0038486076443336853\n",
      "75, stat_7, 0.003746696887001702\n",
      "76, packet_18_protocol_9, 0.0037023130730861947\n",
      "77, packet_8_protocol_5, 0.003608022613749859\n",
      "78, stat_0, 0.003570465843523228\n",
      "79, packet_4_protocol_6, 0.003310760680287876\n",
      "80, packet_14_protocol_9, 0.0032914192744799915\n",
      "81, packet_12_protocol_8, 0.003248234609974855\n",
      "82, packet_3_protocol_2, 0.003166860223806073\n",
      "83, packet_23_protocol_3, 0.0031451337456172845\n",
      "84, packet_19_protocol_9, 0.003136298580644007\n",
      "85, packet_16_protocol_4, 0.0031148333966090976\n",
      "86, packet_6_protocol_6, 0.003105766353828687\n",
      "87, packet_30_protocol_3, 0.003076007924616435\n"
     ]
    }
   ],
   "source": [
    "import numpy as np\n",
    "\n",
    "features = data_in_new.shape[1]\n",
    "importances = extratrees.feature_importances_\n",
    "indices = np.argsort(importances)[::-1]\n",
    "\n",
    "for f in range(features):\n",
    "    print(f\"{f+1}, {data.columns[2+indices[f]]}, {importances[indices[f]]}\")"
   ]
  },
  {
   "cell_type": "code",
   "execution_count": 7,
   "metadata": {},
   "outputs": [
    {
     "data": {
      "text/html": [
       "<style>#sk-container-id-1 {color: black;background-color: white;}#sk-container-id-1 pre{padding: 0;}#sk-container-id-1 div.sk-toggleable {background-color: white;}#sk-container-id-1 label.sk-toggleable__label {cursor: pointer;display: block;width: 100%;margin-bottom: 0;padding: 0.3em;box-sizing: border-box;text-align: center;}#sk-container-id-1 label.sk-toggleable__label-arrow:before {content: \"▸\";float: left;margin-right: 0.25em;color: #696969;}#sk-container-id-1 label.sk-toggleable__label-arrow:hover:before {color: black;}#sk-container-id-1 div.sk-estimator:hover label.sk-toggleable__label-arrow:before {color: black;}#sk-container-id-1 div.sk-toggleable__content {max-height: 0;max-width: 0;overflow: hidden;text-align: left;background-color: #f0f8ff;}#sk-container-id-1 div.sk-toggleable__content pre {margin: 0.2em;color: black;border-radius: 0.25em;background-color: #f0f8ff;}#sk-container-id-1 input.sk-toggleable__control:checked~div.sk-toggleable__content {max-height: 200px;max-width: 100%;overflow: auto;}#sk-container-id-1 input.sk-toggleable__control:checked~label.sk-toggleable__label-arrow:before {content: \"▾\";}#sk-container-id-1 div.sk-estimator input.sk-toggleable__control:checked~label.sk-toggleable__label {background-color: #d4ebff;}#sk-container-id-1 div.sk-label input.sk-toggleable__control:checked~label.sk-toggleable__label {background-color: #d4ebff;}#sk-container-id-1 input.sk-hidden--visually {border: 0;clip: rect(1px 1px 1px 1px);clip: rect(1px, 1px, 1px, 1px);height: 1px;margin: -1px;overflow: hidden;padding: 0;position: absolute;width: 1px;}#sk-container-id-1 div.sk-estimator {font-family: monospace;background-color: #f0f8ff;border: 1px dotted black;border-radius: 0.25em;box-sizing: border-box;margin-bottom: 0.5em;}#sk-container-id-1 div.sk-estimator:hover {background-color: #d4ebff;}#sk-container-id-1 div.sk-parallel-item::after {content: \"\";width: 100%;border-bottom: 1px solid gray;flex-grow: 1;}#sk-container-id-1 div.sk-label:hover label.sk-toggleable__label {background-color: #d4ebff;}#sk-container-id-1 div.sk-serial::before {content: \"\";position: absolute;border-left: 1px solid gray;box-sizing: border-box;top: 0;bottom: 0;left: 50%;z-index: 0;}#sk-container-id-1 div.sk-serial {display: flex;flex-direction: column;align-items: center;background-color: white;padding-right: 0.2em;padding-left: 0.2em;position: relative;}#sk-container-id-1 div.sk-item {position: relative;z-index: 1;}#sk-container-id-1 div.sk-parallel {display: flex;align-items: stretch;justify-content: center;background-color: white;position: relative;}#sk-container-id-1 div.sk-item::before, #sk-container-id-1 div.sk-parallel-item::before {content: \"\";position: absolute;border-left: 1px solid gray;box-sizing: border-box;top: 0;bottom: 0;left: 50%;z-index: -1;}#sk-container-id-1 div.sk-parallel-item {display: flex;flex-direction: column;z-index: 1;position: relative;background-color: white;}#sk-container-id-1 div.sk-parallel-item:first-child::after {align-self: flex-end;width: 50%;}#sk-container-id-1 div.sk-parallel-item:last-child::after {align-self: flex-start;width: 50%;}#sk-container-id-1 div.sk-parallel-item:only-child::after {width: 0;}#sk-container-id-1 div.sk-dashed-wrapped {border: 1px dashed gray;margin: 0 0.4em 0.5em 0.4em;box-sizing: border-box;padding-bottom: 0.4em;background-color: white;}#sk-container-id-1 div.sk-label label {font-family: monospace;font-weight: bold;display: inline-block;line-height: 1.2em;}#sk-container-id-1 div.sk-label-container {text-align: center;}#sk-container-id-1 div.sk-container {/* jupyter's `normalize.less` sets `[hidden] { display: none; }` but bootstrap.min.css set `[hidden] { display: none !important; }` so we also need the `!important` here to be able to override the default hidden behavior on the sphinx rendered scikit-learn.org. See: https://github.com/scikit-learn/scikit-learn/issues/21755 */display: inline-block !important;position: relative;}#sk-container-id-1 div.sk-text-repr-fallback {display: none;}</style><div id=\"sk-container-id-1\" class=\"sk-top-container\"><div class=\"sk-text-repr-fallback\"><pre>RandomForestClassifier(n_estimators=50)</pre><b>In a Jupyter environment, please rerun this cell to show the HTML representation or trust the notebook. <br />On GitHub, the HTML representation is unable to render, please try loading this page with nbviewer.org.</b></div><div class=\"sk-container\" hidden><div class=\"sk-item\"><div class=\"sk-estimator sk-toggleable\"><input class=\"sk-toggleable__control sk-hidden--visually\" id=\"sk-estimator-id-1\" type=\"checkbox\" checked><label for=\"sk-estimator-id-1\" class=\"sk-toggleable__label sk-toggleable__label-arrow\">RandomForestClassifier</label><div class=\"sk-toggleable__content\"><pre>RandomForestClassifier(n_estimators=50)</pre></div></div></div></div></div>"
      ],
      "text/plain": [
       "RandomForestClassifier(n_estimators=50)"
      ]
     },
     "execution_count": 7,
     "metadata": {},
     "output_type": "execute_result"
    }
   ],
   "source": [
    "from sklearn.ensemble import RandomForestClassifier\n",
    "\n",
    "legit_train, legit_test, mal_train, mal_test = train_test_split(data_in_new, labels, test_size=0.2)\n",
    "classif = RandomForestClassifier(n_estimators=50)\n",
    "\n",
    "classif.fit(legit_train, mal_train)"
   ]
  },
  {
   "cell_type": "code",
   "execution_count": 8,
   "metadata": {},
   "outputs": [
    {
     "name": "stdout",
     "output_type": "stream",
     "text": [
      "The score of the algorithm: 99.98562805403853\n"
     ]
    }
   ],
   "source": [
    "print(f\"The score of the algorithm: {classif.score(legit_test,mal_test)*100}\")"
   ]
  },
  {
   "cell_type": "code",
   "execution_count": 9,
   "metadata": {},
   "outputs": [
    {
     "name": "stdout",
     "output_type": "stream",
     "text": [
      "(2, 2)\n",
      "<class 'numpy.ndarray'>\n",
      "[[  604     2]\n",
      " [    0 13310]]\n",
      "False positives:  0.33003300330033003\n",
      "False negatives:  0.0\n"
     ]
    }
   ],
   "source": [
    "from sklearn.metrics import confusion_matrix\n",
    "\n",
    "result = classif.predict(legit_test)\n",
    "conf_mat = confusion_matrix(mal_test, result)\n",
    "\n",
    "\n",
    "print(conf_mat.shape)\n",
    "print(type(conf_mat))\n",
    "print(conf_mat)\n",
    "\n",
    "print(\"False positives: \", conf_mat[0][1]/sum(conf_mat[0])*100)\n",
    "print(\"False negatives: \", conf_mat[1][0]/sum(conf_mat[1])*100)"
   ]
  },
  {
   "cell_type": "code",
   "execution_count": 10,
   "metadata": {},
   "outputs": [
    {
     "data": {
      "text/html": [
       "<style>#sk-container-id-2 {color: black;background-color: white;}#sk-container-id-2 pre{padding: 0;}#sk-container-id-2 div.sk-toggleable {background-color: white;}#sk-container-id-2 label.sk-toggleable__label {cursor: pointer;display: block;width: 100%;margin-bottom: 0;padding: 0.3em;box-sizing: border-box;text-align: center;}#sk-container-id-2 label.sk-toggleable__label-arrow:before {content: \"▸\";float: left;margin-right: 0.25em;color: #696969;}#sk-container-id-2 label.sk-toggleable__label-arrow:hover:before {color: black;}#sk-container-id-2 div.sk-estimator:hover label.sk-toggleable__label-arrow:before {color: black;}#sk-container-id-2 div.sk-toggleable__content {max-height: 0;max-width: 0;overflow: hidden;text-align: left;background-color: #f0f8ff;}#sk-container-id-2 div.sk-toggleable__content pre {margin: 0.2em;color: black;border-radius: 0.25em;background-color: #f0f8ff;}#sk-container-id-2 input.sk-toggleable__control:checked~div.sk-toggleable__content {max-height: 200px;max-width: 100%;overflow: auto;}#sk-container-id-2 input.sk-toggleable__control:checked~label.sk-toggleable__label-arrow:before {content: \"▾\";}#sk-container-id-2 div.sk-estimator input.sk-toggleable__control:checked~label.sk-toggleable__label {background-color: #d4ebff;}#sk-container-id-2 div.sk-label input.sk-toggleable__control:checked~label.sk-toggleable__label {background-color: #d4ebff;}#sk-container-id-2 input.sk-hidden--visually {border: 0;clip: rect(1px 1px 1px 1px);clip: rect(1px, 1px, 1px, 1px);height: 1px;margin: -1px;overflow: hidden;padding: 0;position: absolute;width: 1px;}#sk-container-id-2 div.sk-estimator {font-family: monospace;background-color: #f0f8ff;border: 1px dotted black;border-radius: 0.25em;box-sizing: border-box;margin-bottom: 0.5em;}#sk-container-id-2 div.sk-estimator:hover {background-color: #d4ebff;}#sk-container-id-2 div.sk-parallel-item::after {content: \"\";width: 100%;border-bottom: 1px solid gray;flex-grow: 1;}#sk-container-id-2 div.sk-label:hover label.sk-toggleable__label {background-color: #d4ebff;}#sk-container-id-2 div.sk-serial::before {content: \"\";position: absolute;border-left: 1px solid gray;box-sizing: border-box;top: 0;bottom: 0;left: 50%;z-index: 0;}#sk-container-id-2 div.sk-serial {display: flex;flex-direction: column;align-items: center;background-color: white;padding-right: 0.2em;padding-left: 0.2em;position: relative;}#sk-container-id-2 div.sk-item {position: relative;z-index: 1;}#sk-container-id-2 div.sk-parallel {display: flex;align-items: stretch;justify-content: center;background-color: white;position: relative;}#sk-container-id-2 div.sk-item::before, #sk-container-id-2 div.sk-parallel-item::before {content: \"\";position: absolute;border-left: 1px solid gray;box-sizing: border-box;top: 0;bottom: 0;left: 50%;z-index: -1;}#sk-container-id-2 div.sk-parallel-item {display: flex;flex-direction: column;z-index: 1;position: relative;background-color: white;}#sk-container-id-2 div.sk-parallel-item:first-child::after {align-self: flex-end;width: 50%;}#sk-container-id-2 div.sk-parallel-item:last-child::after {align-self: flex-start;width: 50%;}#sk-container-id-2 div.sk-parallel-item:only-child::after {width: 0;}#sk-container-id-2 div.sk-dashed-wrapped {border: 1px dashed gray;margin: 0 0.4em 0.5em 0.4em;box-sizing: border-box;padding-bottom: 0.4em;background-color: white;}#sk-container-id-2 div.sk-label label {font-family: monospace;font-weight: bold;display: inline-block;line-height: 1.2em;}#sk-container-id-2 div.sk-label-container {text-align: center;}#sk-container-id-2 div.sk-container {/* jupyter's `normalize.less` sets `[hidden] { display: none; }` but bootstrap.min.css set `[hidden] { display: none !important; }` so we also need the `!important` here to be able to override the default hidden behavior on the sphinx rendered scikit-learn.org. See: https://github.com/scikit-learn/scikit-learn/issues/21755 */display: inline-block !important;position: relative;}#sk-container-id-2 div.sk-text-repr-fallback {display: none;}</style><div id=\"sk-container-id-2\" class=\"sk-top-container\"><div class=\"sk-text-repr-fallback\"><pre>GradientBoostingClassifier(n_estimators=50)</pre><b>In a Jupyter environment, please rerun this cell to show the HTML representation or trust the notebook. <br />On GitHub, the HTML representation is unable to render, please try loading this page with nbviewer.org.</b></div><div class=\"sk-container\" hidden><div class=\"sk-item\"><div class=\"sk-estimator sk-toggleable\"><input class=\"sk-toggleable__control sk-hidden--visually\" id=\"sk-estimator-id-2\" type=\"checkbox\" checked><label for=\"sk-estimator-id-2\" class=\"sk-toggleable__label sk-toggleable__label-arrow\">GradientBoostingClassifier</label><div class=\"sk-toggleable__content\"><pre>GradientBoostingClassifier(n_estimators=50)</pre></div></div></div></div></div>"
      ],
      "text/plain": [
       "GradientBoostingClassifier(n_estimators=50)"
      ]
     },
     "execution_count": 10,
     "metadata": {},
     "output_type": "execute_result"
    }
   ],
   "source": [
    "from sklearn.ensemble import GradientBoostingClassifier\n",
    "\n",
    "grad_boost = GradientBoostingClassifier(n_estimators=50)\n",
    "grad_boost.fit(legit_train, mal_train)"
   ]
  },
  {
   "cell_type": "code",
   "execution_count": 11,
   "metadata": {},
   "outputs": [
    {
     "name": "stdout",
     "output_type": "stream",
     "text": [
      "The score of the Gradient Boosting Classifier is:  99.95688416211556\n"
     ]
    }
   ],
   "source": [
    "print(\"The score of the Gradient Boosting Classifier is: \", grad_boost.score(legit_test, mal_test) * 100)"
   ]
  },
  {
   "cell_type": "markdown",
   "metadata": {},
   "source": [
    "## Maldist Model\n",
    "\n",
    "Here we are going to follow the Maldist model by dividing the dataset into 4 classes Benign, Dridex, Emotet and Hacintor\n",
    "But first we need to balanced the data\n",
    "After that we can train our several models and compare their Accuracy, Precision, Recall and F1-Score\n",
    "Then we can do a confussion matrix"
   ]
  },
  {
   "cell_type": "code",
   "execution_count": null,
   "metadata": {},
   "outputs": [],
   "source": []
  }
 ],
 "metadata": {
  "kernelspec": {
   "display_name": "Python 3",
   "language": "python",
   "name": "python3"
  },
  "language_info": {
   "codemirror_mode": {
    "name": "ipython",
    "version": 3
   },
   "file_extension": ".py",
   "mimetype": "text/x-python",
   "name": "python",
   "nbconvert_exporter": "python",
   "pygments_lexer": "ipython3",
   "version": "3.10.13"
  }
 },
 "nbformat": 4,
 "nbformat_minor": 2
}
