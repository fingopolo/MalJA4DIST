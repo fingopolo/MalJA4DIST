{
 "cells": [
  {
   "cell_type": "code",
   "execution_count": 19,
   "metadata": {},
   "outputs": [
    {
     "name": "stdout",
     "output_type": "stream",
     "text": [
      "2566\n"
     ]
    }
   ],
   "source": [
    "import pandas as pd \n",
    "\n",
    "\n",
    "desktop_malware = pd.read_csv('../Datasets/JA4/Dataset2/desktop-malware.csv', sep=';')\n",
    "desktop_apps_1 = pd.read_csv('../Datasets/JA4/Dataset2/desktop-apps.csv', sep=';')\n",
    "desktop_apps_2 = pd.read_csv('../Datasets/JA4/Dataset1/Benign.csv', sep=';')\n",
    "desktop_apps_3 = pd.read_csv('../Datasets/JA4/Dataset2/mydesktop-apps.csv', sep=';')\n",
    "print(len(desktop_apps_3))\n"
   ]
  },
  {
   "cell_type": "code",
   "execution_count": 20,
   "metadata": {},
   "outputs": [],
   "source": [
    "drop_families = [\"Sodinokibi\", \"Hawkeye\", \"Nanocore\", \"IceID\", \"Wannacry\"]\n",
    "desktop_malware = desktop_malware[~desktop_malware['AppName'].isin(drop_families)]"
   ]
  },
  {
   "cell_type": "code",
   "execution_count": 22,
   "metadata": {},
   "outputs": [
    {
     "name": "stdout",
     "output_type": "stream",
     "text": [
      "                                 SNI  \\\n",
      "0  binaries.templates.cdn.office.net   \n",
      "1  binaries.templates.cdn.office.net   \n",
      "2  binaries.templates.cdn.office.net   \n",
      "3  binaries.templates.cdn.office.net   \n",
      "4  binaries.templates.cdn.office.net   \n",
      "\n",
      "                                             OrgName  \\\n",
      "0  Network Architecture Role Account, AKAMAI-PA (GB)   \n",
      "1  Network Architecture Role Account, AKAMAI-PA (GB)   \n",
      "2  Network Architecture Role Account, AKAMAI-PA (GB)   \n",
      "3  Network Architecture Role Account, AKAMAI-PA (GB)   \n",
      "4  Network Architecture Role Account, AKAMAI-PA (GB)   \n",
      "\n",
      "                            JA3hash                               JA4hash  \\\n",
      "0  a0e9f5d64349fb13191bc781f81f42e1  t12d190800_d83cc789557e_7af1ed941c26   \n",
      "1  a0e9f5d64349fb13191bc781f81f42e1  t12d190800_d83cc789557e_7af1ed941c26   \n",
      "2  a0e9f5d64349fb13191bc781f81f42e1  t12d190800_d83cc789557e_7af1ed941c26   \n",
      "3  a0e9f5d64349fb13191bc781f81f42e1  t12d190800_d83cc789557e_7af1ed941c26   \n",
      "4  a0e9f5d64349fb13191bc781f81f42e1  t12d190800_d83cc789557e_7af1ed941c26   \n",
      "\n",
      "      AppName  Type                          JA3Shash  \\\n",
      "0  Metasploit   0.0  b677083c9768d0548331fca998152a10   \n",
      "1  Metasploit   0.0  b677083c9768d0548331fca998152a10   \n",
      "2  Metasploit   0.0  b677083c9768d0548331fca998152a10   \n",
      "3  Metasploit   0.0  b677083c9768d0548331fca998152a10   \n",
      "4  Metasploit   0.0  b677083c9768d0548331fca998152a10   \n",
      "\n",
      "                    JA4Shash                                 Filename  \\\n",
      "0  t120500_c02c_e1dda4771ae8  240610-mp6m9aga7v.behavioral2-extracted   \n",
      "1  t120500_c02c_e1dda4771ae8  240610-mp6m9aga7v.behavioral2-extracted   \n",
      "2  t120500_c02c_e1dda4771ae8  240610-mp6m9aga7v.behavioral2-extracted   \n",
      "3  t120500_c02c_e1dda4771ae8  240610-mp6m9aga7v.behavioral2-extracted   \n",
      "4  t120500_c02c_e1dda4771ae8  240610-mp6m9aga7v.behavioral2-extracted   \n",
      "\n",
      "   Version                                               JA4X  Issuer  \\\n",
      "0    771.0  a373a9f83c6b_2bab15409345_0f2217ba412e, 7d5dbb...     NaN   \n",
      "1    771.0                                                NaN     NaN   \n",
      "2    771.0  a373a9f83c6b_2bab15409345_0f2217ba412e, 7d5dbb...     NaN   \n",
      "3    771.0                                                NaN     NaN   \n",
      "4    771.0  a373a9f83c6b_2bab15409345_0f2217ba412e, 7d5dbb...     NaN   \n",
      "\n",
      "   Subject        SrcIP       DstIP  SrcPort  DstPort  \\\n",
      "0      NaN  10.127.1.23  2.22.144.9    54729      443   \n",
      "1      NaN  10.127.1.23  2.22.144.9    54729      443   \n",
      "2      NaN  10.127.1.23  2.22.144.9    54730      443   \n",
      "3      NaN  10.127.1.23  2.22.144.9    54730      443   \n",
      "4      NaN  10.127.1.23  2.22.144.9    54731      443   \n",
      "\n",
      "                      ja4ts label  \n",
      "0  64240-2-1-1-4-1-3-1357-7    DM  \n",
      "1  64240-2-1-1-4-1-3-1357-7    DM  \n",
      "2  64240-2-1-1-4-1-3-1357-7    DM  \n",
      "3  64240-2-1-1-4-1-3-1357-7    DM  \n",
      "4  64240-2-1-1-4-1-3-1357-7    DM  \n"
     ]
    }
   ],
   "source": [
    "desktop_malware['label'] = 'DM'\n",
    "desktop_apps_1['label'] = 'DA'\n",
    "desktop_apps_2['label'] = 'DA'  # Asignamos DA si son aplicaciones benignas de escritorio\n",
    "desktop_apps_3['label'] = 'DA'\n",
    "\n",
    "df_combined = pd.concat([\n",
    "    desktop_malware,\n",
    "    desktop_apps_1,\n",
    "    desktop_apps_2,\n",
    "    desktop_apps_3,\n",
    "], ignore_index=True)\n",
    "\n",
    "# Verificar las primeras filas\n",
    "print(df_combined.head())"
   ]
  },
  {
   "cell_type": "code",
   "execution_count": 23,
   "metadata": {},
   "outputs": [
    {
     "data": {
      "image/png": "[encoded data removed]",
      "text/plain": [
       "<Figure size 800x400 with 1 Axes>"
      ]
     },
     "metadata": {},
     "output_type": "display_data"
    }
   ],
   "source": [
    "import matplotlib.pyplot as plt\n",
    "\n",
    "# Contar registros por label\n",
    "counts = df_combined['label'].value_counts()\n",
    "\n",
    "# Gráfico de barras\n",
    "plt.figure(figsize=(8, 4))\n",
    "counts.plot(kind='bar', color=['red', 'blue', 'green', 'purple'])\n",
    "plt.title('Distribución de Clases')\n",
    "plt.xlabel('Clase')\n",
    "plt.ylabel('Número de Registros')\n",
    "\n",
    "# Usar las categorías únicas de counts.index para los ticks\n",
    "plt.xticks(ticks=range(len(counts)), labels=counts.index, rotation=45)  # <- Corrección aquí\n",
    "plt.grid(axis='y', linestyle='--', alpha=0.7)\n",
    "\n",
    "# Mostrar valores en las barras\n",
    "for i, count in enumerate(counts):\n",
    "    plt.text(i, count + 5, str(count), ha='center')\n",
    "\n",
    "plt.tight_layout()\n",
    "plt.show()"
   ]
  },
  {
   "cell_type": "code",
   "execution_count": 24,
   "metadata": {},
   "outputs": [
    {
     "name": "stdout",
     "output_type": "stream",
     "text": [
      "Index(['SNI', 'JA4hash', 'AppName', 'Type', 'JA4Shash', 'Filename', 'JA4X',\n",
      "       'ja4ts', 'label'],\n",
      "      dtype='object')\n"
     ]
    }
   ],
   "source": [
    "df_hashing = df_combined.drop(columns=['SrcIP', 'DstIP', 'SrcPort', 'DstPort', 'OrgName', 'JA3hash', 'JA3Shash', 'Version', 'Issuer', 'Subject'])\n",
    "\n",
    "print(df_hashing.columns)"
   ]
  },
  {
   "cell_type": "code",
   "execution_count": 25,
   "metadata": {},
   "outputs": [
    {
     "name": "stdout",
     "output_type": "stream",
     "text": [
      "JA4 JA4S unique fingerprints: 455\n"
     ]
    }
   ],
   "source": [
    "df_combined[\"JA4+JA4S\"] = df_combined[\"JA4hash\"].astype(str) + \"_\" + df_combined[\"JA4Shash\"].astype(str)\n",
    "\n",
    "unique_fingerprints = df_combined[\"JA4+JA4S\"].value_counts().to_dict()\n",
    "print(f\"JA4 JA4S unique fingerprints: {len(unique_fingerprints)}\")"
   ]
  },
  {
   "cell_type": "code",
   "execution_count": 26,
   "metadata": {},
   "outputs": [
    {
     "name": "stdout",
     "output_type": "stream",
     "text": [
      "              precision    recall  f1-score   support\n",
      "\n",
      "           0       0.94      0.95      0.94      1309\n",
      "           1       0.95      0.94      0.94      1353\n",
      "\n",
      "    accuracy                           0.94      2662\n",
      "   macro avg       0.94      0.94      0.94      2662\n",
      "weighted avg       0.94      0.94      0.94      2662\n",
      "\n"
     ]
    }
   ],
   "source": [
    "from sklearn.ensemble import RandomForestClassifier\n",
    "from sklearn.model_selection import train_test_split\n",
    "from sklearn.metrics import classification_report, accuracy_score, confusion_matrix, precision_score, recall_score, f1_score\n",
    "\n",
    "from sklearn.feature_extraction import FeatureHasher\n",
    "from sklearn.preprocessing import LabelEncoder\n",
    "\n",
    "\n",
    "label_encoder = LabelEncoder()\n",
    "y = label_encoder.fit_transform(df_combined['label'])\n",
    "\n",
    "hasher = FeatureHasher(n_features=1024, input_type='string')\n",
    "X = hasher.fit_transform(df_combined[['JA4hash', 'JA4Shash']].astype(str).values.tolist())\n",
    "\n",
    "X_train, X_test, y_train, y_test = train_test_split(\n",
    "    X, y, test_size=0.3, stratify=y, random_state=42\n",
    ")\n",
    "\n",
    "featureHasher = RandomForestClassifier(\n",
    "    n_estimators=100,\n",
    "    class_weight='balanced',  # Para manejar desbalanceo\n",
    "    random_state=42\n",
    ")\n",
    "featureHasher.fit(X_train, y_train)\n",
    "\n",
    "\n",
    "\n",
    "y_pred_featureHasher = featureHasher.predict(X_test)\n",
    "print(classification_report(y_test, y_pred_featureHasher))"
   ]
  },
  {
   "cell_type": "code",
   "execution_count": 27,
   "metadata": {},
   "outputs": [
    {
     "name": "stdout",
     "output_type": "stream",
     "text": [
      "The score of the algorithm: 94.32757325319308\n"
     ]
    }
   ],
   "source": [
    "print(f\"The score of the algorithm: {featureHasher.score(X_test,y_test)*100}\")"
   ]
  },
  {
   "cell_type": "code",
   "execution_count": 28,
   "metadata": {},
   "outputs": [
    {
     "data": {
      "image/png": "[encoded data removed]",
      "text/plain": [
       "<Figure size 800x600 with 1 Axes>"
      ]
     },
     "metadata": {},
     "output_type": "display_data"
    }
   ],
   "source": [
    "import seaborn as sns\n",
    "\n",
    "cm = confusion_matrix(y_test, y_pred_featureHasher)\n",
    "plt.figure(figsize=(8, 6))\n",
    "sns.heatmap(cm, annot=True, fmt='d', cmap='Blues', xticklabels=df_combined['label'].unique(), yticklabels=df_combined['label'].unique(), cbar=False)\n",
    "plt.title('Confusion Matrix ', fontsize=16)\n",
    "plt.xlabel('Prediction', fontsize=12)\n",
    "plt.ylabel('Reality', fontsize=12)\n",
    "\n",
    "\n",
    "plt.show()"
   ]
  },
  {
   "cell_type": "code",
   "execution_count": 29,
   "metadata": {},
   "outputs": [
    {
     "name": "stdout",
     "output_type": "stream",
     "text": [
      "Accuracy: 0.9433\n",
      "Precision: 0.9432\n",
      "Recall: 0.9433\n",
      "F1 Score: 0.9433\n"
     ]
    }
   ],
   "source": [
    "accuracy = accuracy_score(y_test, y_pred_featureHasher)\n",
    "precision = precision_score(y_test, y_pred_featureHasher, average='macro')  # Puedes usar 'micro', 'macro', 'weighted' \n",
    "recall = recall_score(y_test, y_pred_featureHasher, average='macro')\n",
    "f1 = f1_score(y_test, y_pred_featureHasher, average='macro')\n",
    "\n",
    "print(f\"Accuracy: {accuracy:.4f}\")\n",
    "print(f\"Precision: {precision:.4f}\")\n",
    "print(f\"Recall: {recall:.4f}\")\n",
    "print(f\"F1 Score: {f1:.4f}\")"
   ]
  },
  {
   "cell_type": "code",
   "execution_count": 30,
   "metadata": {},
   "outputs": [
    {
     "name": "stdout",
     "output_type": "stream",
     "text": [
      "JA4 JA4S unique fingerprints: 705\n"
     ]
    }
   ],
   "source": [
    "df_combined[\"JA4+JA4S+JA4TS\"] = df_combined[\"JA4hash\"].astype(str) + \"_\" + df_combined[\"JA4Shash\"].astype(str) + \"_\" + df_combined[\"ja4ts\"]\n",
    "\n",
    "unique_fingerprints = df_combined[\"JA4+JA4S+JA4TS\"].value_counts().to_dict()\n",
    "print(f\"JA4 JA4S unique fingerprints: {len(unique_fingerprints)}\")"
   ]
  },
  {
   "cell_type": "code",
   "execution_count": 31,
   "metadata": {},
   "outputs": [
    {
     "name": "stdout",
     "output_type": "stream",
     "text": [
      "              precision    recall  f1-score   support\n",
      "\n",
      "           0       0.96      0.96      0.96      1309\n",
      "           1       0.96      0.96      0.96      1353\n",
      "\n",
      "    accuracy                           0.96      2662\n",
      "   macro avg       0.96      0.96      0.96      2662\n",
      "weighted avg       0.96      0.96      0.96      2662\n",
      "\n"
     ]
    }
   ],
   "source": [
    "from sklearn.ensemble import RandomForestClassifier\n",
    "from sklearn.model_selection import train_test_split\n",
    "from sklearn.metrics import classification_report, accuracy_score, confusion_matrix, precision_score, recall_score, f1_score\n",
    "\n",
    "from sklearn.feature_extraction import FeatureHasher\n",
    "from sklearn.preprocessing import LabelEncoder\n",
    "\n",
    "\n",
    "label_encoder = LabelEncoder()\n",
    "y = label_encoder.fit_transform(df_combined['label'])\n",
    "\n",
    "hasher = FeatureHasher(n_features=1024, input_type='string')\n",
    "X = hasher.fit_transform(df_combined[['JA4hash', 'JA4Shash', \"ja4ts\"]].astype(str).values.tolist())\n",
    "\n",
    "X_train, X_test, y_train, y_test = train_test_split(\n",
    "    X, y, test_size=0.3, stratify=y, random_state=42\n",
    ")\n",
    "\n",
    "featureHasher = RandomForestClassifier(\n",
    "    n_estimators=100,\n",
    "    class_weight='balanced',  # Para manejar desbalanceo\n",
    "    random_state=42\n",
    ")\n",
    "featureHasher.fit(X_train, y_train)\n",
    "\n",
    "\n",
    "\n",
    "y_pred_featureHasher = featureHasher.predict(X_test)\n",
    "print(classification_report(y_test, y_pred_featureHasher))"
   ]
  },
  {
   "cell_type": "code",
   "execution_count": 32,
   "metadata": {},
   "outputs": [
    {
     "name": "stdout",
     "output_type": "stream",
     "text": [
      "The score of the algorithm: 96.28099173553719\n"
     ]
    }
   ],
   "source": [
    "print(f\"The score of the algorithm: {featureHasher.score(X_test,y_test)*100}\")"
   ]
  },
  {
   "cell_type": "code",
   "execution_count": 33,
   "metadata": {},
   "outputs": [
    {
     "data": {
      "image/png": "[encoded data removed]",
      "text/plain": [
       "<Figure size 800x600 with 1 Axes>"
      ]
     },
     "metadata": {},
     "output_type": "display_data"
    }
   ],
   "source": [
    "import seaborn as sns\n",
    "\n",
    "cm = confusion_matrix(y_test, y_pred_featureHasher)\n",
    "plt.figure(figsize=(8, 6))\n",
    "sns.heatmap(cm, annot=True, fmt='d', cmap='Blues', xticklabels=df_combined['label'].unique(), yticklabels=df_combined['label'].unique(), cbar=False)\n",
    "plt.title('Confusion Matrix ', fontsize=16)\n",
    "plt.xlabel('Prediction', fontsize=12)\n",
    "plt.ylabel('Reality', fontsize=12)\n",
    "\n",
    "\n",
    "plt.show()"
   ]
  },
  {
   "cell_type": "code",
   "execution_count": 34,
   "metadata": {},
   "outputs": [
    {
     "name": "stdout",
     "output_type": "stream",
     "text": [
      "Accuracy: 0.9628\n",
      "Precision: 0.9628\n",
      "Recall: 0.9628\n",
      "F1 Score: 0.9628\n"
     ]
    }
   ],
   "source": [
    "accuracy = accuracy_score(y_test, y_pred_featureHasher)\n",
    "precision = precision_score(y_test, y_pred_featureHasher, average='macro')  # Puedes usar 'micro', 'macro', 'weighted' \n",
    "recall = recall_score(y_test, y_pred_featureHasher, average='macro')\n",
    "f1 = f1_score(y_test, y_pred_featureHasher, average='macro')\n",
    "\n",
    "print(f\"Accuracy: {accuracy:.4f}\")\n",
    "print(f\"Precision: {precision:.4f}\")\n",
    "print(f\"Recall: {recall:.4f}\")\n",
    "print(f\"F1 Score: {f1:.4f}\")"
   ]
  }
 ],
 "metadata": {
  "kernelspec": {
   "display_name": "base",
   "language": "python",
   "name": "python3"
  },
  "language_info": {
   "codemirror_mode": {
    "name": "ipython",
    "version": 3
   },
   "file_extension": ".py",
   "mimetype": "text/x-python",
   "name": "python",
   "nbconvert_exporter": "python",
   "pygments_lexer": "ipython3",
   "version": "3.9.12"
  }
 },
 "nbformat": 4,
 "nbformat_minor": 2
}
