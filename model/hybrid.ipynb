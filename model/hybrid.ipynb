{
 "cells": [
  {
   "cell_type": "markdown",
   "metadata": {},
   "source": [
    "## JA4"
   ]
  },
  {
   "cell_type": "code",
   "execution_count": 1,
   "metadata": {},
   "outputs": [
    {
     "name": "stdout",
     "output_type": "stream",
     "text": [
      "3766\n"
     ]
    }
   ],
   "source": [
    "import pandas as pd \n",
    "import numpy as np\n",
    "\n",
    "\n",
    "desktop_malware = pd.read_csv('../Datasets/JA4/Dataset2/desktop-malware.csv', sep=';')\n",
    "desktop_apps_1 = pd.read_csv('../Datasets/JA4/Dataset2/desktop-apps.csv', sep=';')\n",
    "desktop_apps_2 = pd.read_csv('../Datasets/JA4/Dataset1/Benign.csv', sep=';')\n",
    "desktop_apps_3 = pd.read_csv('../Datasets/JA4/Dataset2/mydesktop-apps.csv', sep=';')\n",
    "print(len(desktop_apps_3))\n",
    "\n",
    "mobile_malware = pd.read_csv('../Datasets/JA4/Dataset2/mobile-malware.csv', sep=';')\n",
    "mobile_apps = pd.read_csv('../Datasets/JA4/Dataset2/mobile-apps.csv', sep=';')\n",
    "\n",
    "drop_families = [\"Sodinokibi\", \"Hawkeye\", \"Nanocore\"]\n",
    "desktop_malware = desktop_malware[~desktop_malware['AppName'].isin(drop_families)]\n",
    "\n",
    "\n",
    "desktop_malware['label'] = 'DM'\n",
    "desktop_apps_1['label'] = 'DA'\n",
    "desktop_apps_2['label'] = 'DA'  # Asignamos DA si son aplicaciones benignas de escritorio\n",
    "desktop_apps_3['label'] = 'DA'\n",
    "mobile_malware['label'] = 'MM'\n",
    "mobile_apps['label'] = 'MA'\n",
    "\n",
    "df_combined = pd.concat([\n",
    "    desktop_malware,\n",
    "    desktop_apps_1,\n",
    "    desktop_apps_2,\n",
    "    desktop_apps_3,\n",
    "    #mobile_malware,\n",
    "    #mobile_apps\n",
    "], ignore_index=True)\n",
    "\n",
    "\n",
    "df_hashing = df_combined.drop(columns=['SrcIP', 'DstIP', 'SrcPort', 'DstPort', 'OrgName', 'JA3hash', 'JA3Shash', 'Version', 'Issuer', 'Subject'])"
   ]
  },
  {
   "cell_type": "code",
   "execution_count": 2,
   "metadata": {},
   "outputs": [],
   "source": [
    "from sklearn.ensemble import RandomForestClassifier\n",
    "from sklearn.model_selection import train_test_split\n",
    "from sklearn.metrics import classification_report, accuracy_score, confusion_matrix, precision_score, recall_score, f1_score\n",
    "\n",
    "from sklearn.feature_extraction import FeatureHasher\n",
    "from sklearn.preprocessing import LabelEncoder\n",
    "\n",
    "\n",
    "label_encoder = LabelEncoder()\n",
    "y_ja4 = label_encoder.fit_transform(df_combined['label'])\n",
    "\n",
    "hasher = FeatureHasher(n_features=1024, input_type='string')\n",
    "X_ja4 = hasher.fit_transform(df_combined[['JA4hash', 'JA4Shash']].astype(str).values.tolist())"
   ]
  },
  {
   "cell_type": "markdown",
   "metadata": {},
   "source": [
    "## MALDIST"
   ]
  },
  {
   "cell_type": "code",
   "execution_count": 3,
   "metadata": {},
   "outputs": [],
   "source": [
    "balanced_data = pd.read_csv(\"../Datasets/Maldist_balanced1.csv\", sep=\",\")"
   ]
  },
  {
   "cell_type": "code",
   "execution_count": 4,
   "metadata": {},
   "outputs": [],
   "source": [
    "from sklearn.model_selection import train_test_split\n",
    "from sklearn.ensemble import RandomForestClassifier\n",
    "from sklearn.metrics import classification_report, accuracy_score, confusion_matrix, precision_score, recall_score, f1_score\n",
    "\n",
    "X_maldist = balanced_data.drop(columns=['label'])\n",
    "y_maldist = balanced_data['label']"
   ]
  },
  {
   "cell_type": "markdown",
   "metadata": {},
   "source": [
    "## Balanced Data"
   ]
  },
  {
   "cell_type": "code",
   "execution_count": 5,
   "metadata": {},
   "outputs": [
    {
     "ename": "NameError",
     "evalue": "name 'X_train_ja4' is not defined",
     "output_type": "error",
     "traceback": [
      "\u001b[0;31m---------------------------------------------------------------------------\u001b[0m",
      "\u001b[0;31mNameError\u001b[0m                                 Traceback (most recent call last)",
      "\u001b[0;32m/tmp/ipykernel_307137/3110812867.py\u001b[0m in \u001b[0;36m<module>\u001b[0;34m\u001b[0m\n\u001b[0;32m----> 1\u001b[0;31m \u001b[0mprint\u001b[0m\u001b[0;34m(\u001b[0m\u001b[0;34mf\"JA4 Train: {X_train_ja4.shape}, MalDIST Train: {X_train_maldist.shape}\"\u001b[0m\u001b[0;34m)\u001b[0m\u001b[0;34m\u001b[0m\u001b[0;34m\u001b[0m\u001b[0m\n\u001b[0m\u001b[1;32m      2\u001b[0m \u001b[0mprint\u001b[0m\u001b[0;34m(\u001b[0m\u001b[0;34mf\"JA4 Test: {X_test_ja4.shape}, MalDIST Test: {X_test_maldist.shape}\"\u001b[0m\u001b[0;34m)\u001b[0m\u001b[0;34m\u001b[0m\u001b[0;34m\u001b[0m\u001b[0m\n",
      "\u001b[0;31mNameError\u001b[0m: name 'X_train_ja4' is not defined"
     ]
    }
   ],
   "source": [
    "print(f\"JA4 Train: {X_train_ja4.shape}, MalDIST Train: {X_train_maldist.shape}\")\n",
    "print(f\"JA4 Test: {X_test_ja4.shape}, MalDIST Test: {X_test_maldist.shape}\")"
   ]
  },
  {
   "cell_type": "code",
   "execution_count": 5,
   "metadata": {},
   "outputs": [
    {
     "name": "stdout",
     "output_type": "stream",
     "text": [
      "JA4: (11815, 1024), MalDIST: (11815, 198), Etiquetas: 11815\n"
     ]
    }
   ],
   "source": [
    "import numpy as np\n",
    "from scipy.sparse import issparse\n",
    "\n",
    "# Asegurar que X_maldist sea NumPy array\n",
    "if hasattr(X_maldist, 'values'):\n",
    "    X_maldist = X_maldist.values  # Para DataFrames de Pandas\n",
    "\n",
    "# Obtener mínimo de muestras\n",
    "min_samples = min(X_ja4.shape[0], X_maldist.shape[0])\n",
    "\n",
    "# Recortar JA4 (sparse)\n",
    "X_ja4 = X_ja4[:min_samples, :] if issparse(X_ja4) else X_ja4[:min_samples]\n",
    "\n",
    "# Recortar MalDIST (NumPy array)\n",
    "X_maldist = X_maldist[:min_samples, :] if X_maldist.ndim > 1 else X_maldist[:min_samples]\n",
    "\n",
    "# Recortar etiquetas\n",
    "y = y_ja4[:min_samples]\n",
    "\n",
    "# Verificación\n",
    "print(f\"JA4: {X_ja4.shape}, MalDIST: {X_maldist.shape}, Etiquetas: {len(y)}\")"
   ]
  },
  {
   "cell_type": "code",
   "execution_count": 6,
   "metadata": {},
   "outputs": [
    {
     "name": "stdout",
     "output_type": "stream",
     "text": [
      "Entrenamiento - JA4: (8270, 1024), MalDIST: (8270, 198), Etiquetas: 8270\n",
      "Prueba - JA4: (3545, 1024), MalDIST: (3545, 198), Etiquetas: 3545\n"
     ]
    }
   ],
   "source": [
    "from sklearn.model_selection import train_test_split\n",
    "import numpy as np\n",
    "\n",
    "# Generar índices comunes\n",
    "indices = np.arange(len(y))  # Usa len(y) o X_ja4.shape[0]\n",
    "X_train_idx, X_test_idx, y_train, y_test = train_test_split(\n",
    "    indices, y, test_size=0.3, stratify=y, random_state=42\n",
    ")\n",
    "\n",
    "# Dividir JA4 y MalDIST usando los mismos índices\n",
    "X_train_ja4 = X_ja4[X_train_idx]\n",
    "X_test_ja4 = X_ja4[X_test_idx]\n",
    "X_train_maldist = X_maldist[X_train_idx]\n",
    "X_test_maldist = X_maldist[X_test_idx]\n",
    "\n",
    "print(f\"Entrenamiento - JA4: {X_train_ja4.shape}, MalDIST: {X_train_maldist.shape}, Etiquetas: {len(y_train)}\")\n",
    "print(f\"Prueba - JA4: {X_test_ja4.shape}, MalDIST: {X_test_maldist.shape}, Etiquetas: {len(y_test)}\")"
   ]
  },
  {
   "cell_type": "markdown",
   "metadata": {},
   "source": [
    "# Model"
   ]
  },
  {
   "cell_type": "code",
   "execution_count": 7,
   "metadata": {},
   "outputs": [
    {
     "name": "stderr",
     "output_type": "stream",
     "text": [
      "2025-05-11 16:17:06.017185: W tensorflow/stream_executor/platform/default/dso_loader.cc:64] Could not load dynamic library 'libcudart.so.11.0'; dlerror: libcudart.so.11.0: cannot open shared object file: No such file or directory\n",
      "2025-05-11 16:17:06.017212: I tensorflow/stream_executor/cuda/cudart_stub.cc:29] Ignore above cudart dlerror if you do not have a GPU set up on your machine.\n",
      "2025-05-11 16:17:09.203231: W tensorflow/stream_executor/platform/default/dso_loader.cc:64] Could not load dynamic library 'libcuda.so.1'; dlerror: libcuda.so.1: cannot open shared object file: No such file or directory\n",
      "2025-05-11 16:17:09.203279: W tensorflow/stream_executor/cuda/cuda_driver.cc:269] failed call to cuInit: UNKNOWN ERROR (303)\n",
      "2025-05-11 16:17:09.203310: I tensorflow/stream_executor/cuda/cuda_diagnostics.cc:169] retrieving CUDA diagnostic information for host: fingopolo-HP-Pavilion-Laptop-14-ce3xxx\n",
      "2025-05-11 16:17:09.203315: I tensorflow/stream_executor/cuda/cuda_diagnostics.cc:176] hostname: fingopolo-HP-Pavilion-Laptop-14-ce3xxx\n",
      "2025-05-11 16:17:09.203934: I tensorflow/stream_executor/cuda/cuda_diagnostics.cc:200] libcuda reported version is: NOT_FOUND: was unable to find libcuda.so DSO loaded into this program\n",
      "2025-05-11 16:17:09.204156: I tensorflow/stream_executor/cuda/cuda_diagnostics.cc:204] kernel reported version is: 470.256.2\n",
      "2025-05-11 16:17:09.205353: I tensorflow/core/platform/cpu_feature_guard.cc:151] This TensorFlow binary is optimized with oneAPI Deep Neural Network Library (oneDNN) to use the following CPU instructions in performance-critical operations:  AVX2 AVX512F FMA\n",
      "To enable them in other operations, rebuild TensorFlow with the appropriate compiler flags.\n"
     ]
    }
   ],
   "source": [
    "from tensorflow.keras.layers import Input, Dense, Concatenate, Dropout\n",
    "from tensorflow.keras.models import Model\n",
    "from tensorflow.keras.regularizers import l2\n",
    "from tensorflow.keras.optimizers import Adam\n",
    "from sklearn.preprocessing import StandardScaler\n",
    "from sklearn.utils import class_weight\n",
    "import numpy as np\n",
    "\n",
    "#1 Normalización de Features\n",
    "scaler = StandardScaler()\n",
    "X_train_maldist = scaler.fit_transform(X_train_maldist)\n",
    "X_test_maldist = scaler.transform(X_test_maldist)\n",
    "\n",
    "#2 Balanceo de Clases\n",
    "class_weights = class_weight.compute_class_weight(\n",
    "    'balanced', \n",
    "    classes=np.unique(y_train), \n",
    "    y=y_train\n",
    ")\n",
    "class_weights = dict(enumerate(class_weights))\n",
    "\n",
    "#3 Arquitectura del Modelo Mejorada\n",
    "# Modalidad JA4\n",
    "input_ja4 = Input(shape=(X_train_ja4.shape[1],))\n",
    "dense_ja4 = Dense(256, activation='relu', kernel_regularizer=l2(0.01))(input_ja4)  # Regularización L2\n",
    "dense_ja4 = Dropout(0.4)(dense_ja4)  # Mayor dropout\n",
    "\n",
    "# Modalidad MalDIST\n",
    "input_stats = Input(shape=(X_train_maldist.shape[1],))\n",
    "dense_stats = Dense(256, activation='relu', kernel_regularizer=l2(0.01))(input_stats)\n",
    "dense_stats = Dropout(0.4)(dense_stats)\n",
    "\n",
    "# Fusión\n",
    "merged = Concatenate()([dense_ja4, dense_stats])\n",
    "shared = Dense(512, activation='relu')(merged)  # Capa más ancha\n",
    "shared = Dropout(0.6)(shared)  # Dropout más agresivo\n",
    "\n",
    "# Salida\n",
    "output = Dense(len(np.unique(y)), activation='softmax')(shared)  # Ajusta según tus clases\n",
    "\n",
    "# Compilación con Learning Rate ajustado\n",
    "model = Model(inputs=[input_ja4, input_stats], outputs=output)\n",
    "model.compile(\n",
    "    optimizer=Adam(learning_rate=0.0001),  # LR más bajo\n",
    "    loss='sparse_categorical_crossentropy',\n",
    "    metrics=['accuracy']\n",
    ")\n",
    "\n",
    "model.save('models/hybrid_model.keras') "
   ]
  },
  {
   "cell_type": "code",
   "execution_count": 8,
   "metadata": {},
   "outputs": [
    {
     "name": "stdout",
     "output_type": "stream",
     "text": [
      "Epoch 1/100\n",
      "130/130 [==============================] - 3s 17ms/step - loss: 5.7420 - accuracy: 0.4557 - val_loss: 4.6380 - val_accuracy: 0.4827\n",
      "Epoch 2/100\n",
      "130/130 [==============================] - 1s 11ms/step - loss: 3.9431 - accuracy: 0.4932 - val_loss: 3.2585 - val_accuracy: 0.5010\n",
      "Epoch 3/100\n",
      "130/130 [==============================] - 1s 10ms/step - loss: 2.8014 - accuracy: 0.4982 - val_loss: 2.3565 - val_accuracy: 0.5094\n",
      "Epoch 4/100\n",
      "130/130 [==============================] - 2s 12ms/step - loss: 2.0548 - accuracy: 0.4890 - val_loss: 1.7680 - val_accuracy: 0.4925\n",
      "Epoch 5/100\n",
      "130/130 [==============================] - 2s 12ms/step - loss: 1.5751 - accuracy: 0.4787 - val_loss: 1.3865 - val_accuracy: 0.4869\n",
      "Epoch 6/100\n",
      "130/130 [==============================] - 2s 12ms/step - loss: 1.2586 - accuracy: 0.4756 - val_loss: 1.1276 - val_accuracy: 0.4829\n",
      "Epoch 7/100\n",
      "130/130 [==============================] - 1s 11ms/step - loss: 1.0378 - accuracy: 0.4745 - val_loss: 0.9417 - val_accuracy: 0.4815\n",
      "Epoch 8/100\n",
      "130/130 [==============================] - 1s 11ms/step - loss: 0.8730 - accuracy: 0.4724 - val_loss: 0.8028 - val_accuracy: 0.4784\n",
      "Epoch 9/100\n",
      "130/130 [==============================] - 1s 11ms/step - loss: 0.7457 - accuracy: 0.4716 - val_loss: 0.6888 - val_accuracy: 0.4784\n",
      "Epoch 10/100\n",
      "130/130 [==============================] - 1s 11ms/step - loss: 0.6425 - accuracy: 0.4710 - val_loss: 0.5973 - val_accuracy: 0.4784\n",
      "Epoch 11/100\n",
      "130/130 [==============================] - 1s 11ms/step - loss: 0.5601 - accuracy: 0.4693 - val_loss: 0.5241 - val_accuracy: 0.4798\n",
      "Epoch 12/100\n",
      "130/130 [==============================] - 1s 11ms/step - loss: 0.4886 - accuracy: 0.4695 - val_loss: 0.4619 - val_accuracy: 0.4807\n",
      "Epoch 13/100\n",
      "130/130 [==============================] - 2s 12ms/step - loss: 0.4278 - accuracy: 0.4693 - val_loss: 0.4063 - val_accuracy: 0.4762\n",
      "Epoch 14/100\n",
      "130/130 [==============================] - 1s 11ms/step - loss: 0.3807 - accuracy: 0.4666 - val_loss: 0.3643 - val_accuracy: 0.4787\n",
      "Epoch 15/100\n",
      "130/130 [==============================] - 1s 11ms/step - loss: 0.3458 - accuracy: 0.4692 - val_loss: 0.3247 - val_accuracy: 0.4736\n",
      "Epoch 16/100\n",
      "130/130 [==============================] - 2s 12ms/step - loss: 0.3043 - accuracy: 0.4698 - val_loss: 0.2972 - val_accuracy: 0.4756\n",
      "Epoch 17/100\n",
      "130/130 [==============================] - 2s 12ms/step - loss: 0.2793 - accuracy: 0.4687 - val_loss: 0.2692 - val_accuracy: 0.4731\n",
      "Epoch 18/100\n",
      "130/130 [==============================] - 2s 13ms/step - loss: 0.2511 - accuracy: 0.4677 - val_loss: 0.2508 - val_accuracy: 0.4750\n",
      "Epoch 19/100\n",
      "130/130 [==============================] - 2s 12ms/step - loss: 0.2322 - accuracy: 0.4692 - val_loss: 0.2309 - val_accuracy: 0.4779\n",
      "Epoch 20/100\n",
      "130/130 [==============================] - 1s 11ms/step - loss: 0.2147 - accuracy: 0.4671 - val_loss: 0.2119 - val_accuracy: 0.4748\n",
      "Epoch 21/100\n",
      "130/130 [==============================] - 2s 12ms/step - loss: 0.1981 - accuracy: 0.4678 - val_loss: 0.2013 - val_accuracy: 0.4801\n",
      "Epoch 22/100\n",
      "130/130 [==============================] - 1s 11ms/step - loss: 0.1850 - accuracy: 0.4686 - val_loss: 0.1863 - val_accuracy: 0.4736\n",
      "Epoch 23/100\n",
      "130/130 [==============================] - 1s 11ms/step - loss: 0.1741 - accuracy: 0.4674 - val_loss: 0.1782 - val_accuracy: 0.4767\n",
      "Epoch 24/100\n",
      "130/130 [==============================] - 2s 12ms/step - loss: 0.1628 - accuracy: 0.4677 - val_loss: 0.1668 - val_accuracy: 0.4779\n",
      "Epoch 25/100\n",
      "130/130 [==============================] - 2s 13ms/step - loss: 0.1533 - accuracy: 0.4672 - val_loss: 0.1607 - val_accuracy: 0.4750\n",
      "Epoch 26/100\n",
      "130/130 [==============================] - 2s 13ms/step - loss: 0.1439 - accuracy: 0.4687 - val_loss: 0.1535 - val_accuracy: 0.4725\n",
      "Epoch 27/100\n",
      "130/130 [==============================] - 2s 18ms/step - loss: 0.1390 - accuracy: 0.4683 - val_loss: 0.1490 - val_accuracy: 0.4739\n",
      "Epoch 28/100\n",
      "130/130 [==============================] - 2s 12ms/step - loss: 0.1330 - accuracy: 0.4669 - val_loss: 0.1477 - val_accuracy: 0.4756\n",
      "Epoch 29/100\n",
      "130/130 [==============================] - 1s 11ms/step - loss: 0.1295 - accuracy: 0.4681 - val_loss: 0.1367 - val_accuracy: 0.4700\n",
      "Epoch 30/100\n",
      "130/130 [==============================] - 2s 16ms/step - loss: 0.1240 - accuracy: 0.4667 - val_loss: 0.1385 - val_accuracy: 0.4767\n",
      "Epoch 31/100\n",
      "130/130 [==============================] - 2s 13ms/step - loss: 0.1213 - accuracy: 0.4674 - val_loss: 0.1367 - val_accuracy: 0.4779\n",
      "Epoch 32/100\n",
      "130/130 [==============================] - 2s 13ms/step - loss: 0.1168 - accuracy: 0.4676 - val_loss: 0.1341 - val_accuracy: 0.4773\n",
      "Epoch 33/100\n",
      "130/130 [==============================] - 2s 12ms/step - loss: 0.1125 - accuracy: 0.4676 - val_loss: 0.1259 - val_accuracy: 0.4717\n",
      "Epoch 34/100\n",
      "130/130 [==============================] - 1s 11ms/step - loss: 0.1070 - accuracy: 0.4683 - val_loss: 0.1226 - val_accuracy: 0.4728\n",
      "Epoch 35/100\n",
      "130/130 [==============================] - 2s 13ms/step - loss: 0.1045 - accuracy: 0.4672 - val_loss: 0.1203 - val_accuracy: 0.4748\n",
      "Epoch 36/100\n",
      "130/130 [==============================] - 2s 13ms/step - loss: 0.1029 - accuracy: 0.4681 - val_loss: 0.1196 - val_accuracy: 0.4674\n",
      "Epoch 37/100\n",
      "130/130 [==============================] - 2s 13ms/step - loss: 0.1001 - accuracy: 0.4671 - val_loss: 0.1191 - val_accuracy: 0.4700\n",
      "Epoch 38/100\n",
      "130/130 [==============================] - 2s 13ms/step - loss: 0.0978 - accuracy: 0.4671 - val_loss: 0.1163 - val_accuracy: 0.4725\n",
      "Epoch 39/100\n",
      "130/130 [==============================] - 1s 11ms/step - loss: 0.0943 - accuracy: 0.4683 - val_loss: 0.1186 - val_accuracy: 0.4708\n",
      "Epoch 40/100\n",
      "130/130 [==============================] - 1s 11ms/step - loss: 0.0928 - accuracy: 0.4684 - val_loss: 0.1142 - val_accuracy: 0.4708\n",
      "Epoch 41/100\n",
      "130/130 [==============================] - 2s 12ms/step - loss: 0.0937 - accuracy: 0.4680 - val_loss: 0.1168 - val_accuracy: 0.4728\n",
      "Epoch 42/100\n",
      "130/130 [==============================] - 2s 12ms/step - loss: 0.0898 - accuracy: 0.4664 - val_loss: 0.1113 - val_accuracy: 0.4739\n",
      "Epoch 43/100\n",
      "130/130 [==============================] - 1s 11ms/step - loss: 0.0881 - accuracy: 0.4677 - val_loss: 0.1107 - val_accuracy: 0.4736\n",
      "Epoch 44/100\n",
      "130/130 [==============================] - 1s 11ms/step - loss: 0.0860 - accuracy: 0.4669 - val_loss: 0.1044 - val_accuracy: 0.4680\n",
      "Epoch 45/100\n",
      "130/130 [==============================] - 2s 12ms/step - loss: 0.0845 - accuracy: 0.4661 - val_loss: 0.1097 - val_accuracy: 0.4748\n",
      "Epoch 46/100\n",
      "130/130 [==============================] - 2s 12ms/step - loss: 0.0837 - accuracy: 0.4666 - val_loss: 0.1103 - val_accuracy: 0.4770\n",
      "Epoch 47/100\n",
      "130/130 [==============================] - 2s 12ms/step - loss: 0.0814 - accuracy: 0.4686 - val_loss: 0.1067 - val_accuracy: 0.4728\n",
      "Epoch 48/100\n",
      "130/130 [==============================] - 2s 12ms/step - loss: 0.0811 - accuracy: 0.4681 - val_loss: 0.0976 - val_accuracy: 0.4722\n",
      "Epoch 49/100\n",
      "130/130 [==============================] - 2s 13ms/step - loss: 0.0828 - accuracy: 0.4683 - val_loss: 0.1036 - val_accuracy: 0.4666\n",
      "Epoch 50/100\n",
      "130/130 [==============================] - 2s 14ms/step - loss: 0.0792 - accuracy: 0.4663 - val_loss: 0.1062 - val_accuracy: 0.4717\n",
      "Epoch 51/100\n",
      "130/130 [==============================] - 2s 12ms/step - loss: 0.0786 - accuracy: 0.4669 - val_loss: 0.1074 - val_accuracy: 0.4762\n",
      "Epoch 52/100\n",
      "130/130 [==============================] - 2s 12ms/step - loss: 0.0768 - accuracy: 0.4669 - val_loss: 0.1019 - val_accuracy: 0.4759\n",
      "Epoch 53/100\n",
      "130/130 [==============================] - 2s 12ms/step - loss: 0.0756 - accuracy: 0.4698 - val_loss: 0.1015 - val_accuracy: 0.4745\n"
     ]
    }
   ],
   "source": [
    "#4 Entrenamiento con Early Stopping\n",
    "from tensorflow.keras.callbacks import EarlyStopping\n",
    "early_stop = EarlyStopping(monitor='val_loss', patience=5, restore_best_weights=True)\n",
    "\n",
    "history = model.fit(\n",
    "    [X_train_ja4.toarray(), X_train_maldist],\n",
    "    y_train,\n",
    "    epochs=100,  # Máximo de épocas (puede parar antes por early stopping)\n",
    "    batch_size=64,\n",
    "    validation_data=([X_test_ja4.toarray(), X_test_maldist], y_test),\n",
    "    class_weight=class_weights,  # Balanceo\n",
    "    callbacks=[early_stop],  # Detención temprana\n",
    "    verbose=1\n",
    ")"
   ]
  },
  {
   "cell_type": "code",
   "execution_count": 11,
   "metadata": {},
   "outputs": [
    {
     "name": "stdout",
     "output_type": "stream",
     "text": [
      "[[2.1473452e-02 9.7852659e-01]\n",
      " [1.2688200e-03 9.9873120e-01]\n",
      " [9.9999988e-01 9.0570573e-08]\n",
      " ...\n",
      " [6.1200171e-06 9.9999392e-01]\n",
      " [1.4776388e-08 1.0000000e+00]\n",
      " [9.9458718e-01 5.4128398e-03]]\n"
     ]
    },
    {
     "data": {
      "text/plain": [
       "array([1, 1, 0, ..., 1, 1, 0])"
      ]
     },
     "execution_count": 11,
     "metadata": {},
     "output_type": "execute_result"
    }
   ],
   "source": [
    "# Obtener predicciones (probabilidades)\n",
    "y_pred_proba = model.predict([X_test_ja4.toarray(), X_test_maldist])\n",
    "print(y_pred_proba)\n",
    "\n",
    "# Convertir a clases (índices)\n",
    "y_pred = np.argmax(y_pred_proba, axis=1) \n",
    "y_pred"
   ]
  },
  {
   "cell_type": "code",
   "execution_count": 12,
   "metadata": {},
   "outputs": [
    {
     "name": "stdout",
     "output_type": "stream",
     "text": [
      "              precision    recall  f1-score   support\n",
      "\n",
      "          DA       0.97      0.98      0.97      1652\n",
      "          DM       0.98      0.97      0.98      1893\n",
      "\n",
      "    accuracy                           0.97      3545\n",
      "   macro avg       0.97      0.97      0.97      3545\n",
      "weighted avg       0.97      0.97      0.97      3545\n",
      "\n"
     ]
    }
   ],
   "source": [
    "print(classification_report(y_test, y_pred, target_names=label_encoder.classes_))"
   ]
  },
  {
   "cell_type": "code",
   "execution_count": 13,
   "metadata": {},
   "outputs": [
    {
     "name": "stdout",
     "output_type": "stream",
     "text": [
      "Accuracy: 0.9735\n",
      "Precision: 0.9731\n",
      "Recall: 0.9737\n",
      "F1 Score: 0.9734\n"
     ]
    }
   ],
   "source": [
    "from sklearn.metrics import accuracy_score, precision_score, recall_score, f1_score\n",
    "\n",
    "# Calcular métricas\n",
    "accuracy = accuracy_score(y_test, y_pred)\n",
    "precision = precision_score(y_test, y_pred, average='macro')  # 'macro', 'micro', o 'weighted'\n",
    "recall = recall_score(y_test, y_pred, average='macro')\n",
    "f1 = f1_score(y_test, y_pred, average='macro')\n",
    "\n",
    "# Imprimir resultados\n",
    "print(f\"Accuracy: {accuracy:.4f}\")\n",
    "print(f\"Precision: {precision:.4f}\")\n",
    "print(f\"Recall: {recall:.4f}\")\n",
    "print(f\"F1 Score: {f1:.4f}\")"
   ]
  },
  {
   "cell_type": "code",
   "execution_count": 14,
   "metadata": {},
   "outputs": [
    {
     "data": {
      "image/png": "[encoded data removed]",
      "text/plain": [
       "<Figure size 800x600 with 1 Axes>"
      ]
     },
     "metadata": {},
     "output_type": "display_data"
    }
   ],
   "source": [
    "import seaborn as sns\n",
    "import matplotlib.pyplot as plt\n",
    "from sklearn.metrics import confusion_matrix\n",
    "\n",
    "# Obtener etiquetas únicas (classes)\n",
    "classes = label_encoder.classes_  # Si usaste LabelEncoder en 'y'\n",
    "\n",
    "# Calcular matriz de confusión\n",
    "cm = confusion_matrix(y_test, y_pred)\n",
    "\n",
    "# Graficar\n",
    "plt.figure(figsize=(8, 6))\n",
    "sns.heatmap(\n",
    "    cm, \n",
    "    annot=True, \n",
    "    fmt='d', \n",
    "    cmap='Blues',\n",
    "    xticklabels=classes, \n",
    "    yticklabels=classes,\n",
    "    cbar=False\n",
    ")\n",
    "plt.title('Confusion Matrix (Hybrid Model JA4 + MalDIST)', fontsize=16)\n",
    "plt.xlabel('Prediction', fontsize=12)\n",
    "plt.ylabel('Real', fontsize=12)\n",
    "plt.xticks(rotation=45)  # Rotar etiquetas si son largas\n",
    "plt.yticks(rotation=0)\n",
    "\n",
    "plt.savefig('ConfMat_hybrid_model.png', bbox_inches='tight', dpi=300)\n",
    "plt.show()"
   ]
  }
 ],
 "metadata": {
  "kernelspec": {
   "display_name": "base",
   "language": "python",
   "name": "python3"
  },
  "language_info": {
   "codemirror_mode": {
    "name": "ipython",
    "version": 3
   },
   "file_extension": ".py",
   "mimetype": "text/x-python",
   "name": "python",
   "nbconvert_exporter": "python",
   "pygments_lexer": "ipython3",
   "version": "3.9.12"
  }
 },
 "nbformat": 4,
 "nbformat_minor": 2
}
